{
 "cells": [
  {
   "cell_type": "markdown",
   "id": "fd81644d",
   "metadata": {},
   "source": [
    "# Lecture Notes 18"
   ]
  },
  {
   "cell_type": "markdown",
   "id": "23aaa225",
   "metadata": {},
   "source": [
    "* timer as context managare"
   ]
  },
  {
   "cell_type": "code",
   "execution_count": 8,
   "id": "0272c313",
   "metadata": {},
   "outputs": [],
   "source": [
    "import time"
   ]
  },
  {
   "cell_type": "code",
   "execution_count": 9,
   "id": "f36136bf",
   "metadata": {},
   "outputs": [],
   "source": [
    "class Timer:\n",
    "    def __enter__(self):\n",
    "        self.t1 = time.time()\n",
    "        \n",
    "    def __exit__(self, *args):\n",
    "        self.t2 = time.time()\n",
    "        print(f\"Time used here: {self.t2 - self.t1}\")"
   ]
  },
  {
   "cell_type": "code",
   "execution_count": 10,
   "id": "6641b1b9",
   "metadata": {},
   "outputs": [
    {
     "name": "stdout",
     "output_type": "stream",
     "text": [
      "Hello\n",
      "World\n",
      "Time used here: 1.0002415180206299\n"
     ]
    }
   ],
   "source": [
    "\n",
    "\n",
    "with Timer() as t:\n",
    "    print(\"Hello\")\n",
    "    time.sleep(1)\n",
    "    print(\"World\")"
   ]
  },
  {
   "cell_type": "markdown",
   "id": "fe3b2389",
   "metadata": {},
   "source": [
    "## Iterables"
   ]
  },
  {
   "cell_type": "code",
   "execution_count": 11,
   "id": "0319af0a",
   "metadata": {},
   "outputs": [
    {
     "data": {
      "text/plain": [
       "<list_iterator at 0x7f8e728482e0>"
      ]
     },
     "execution_count": 11,
     "metadata": {},
     "output_type": "execute_result"
    }
   ],
   "source": [
    "iter([])"
   ]
  },
  {
   "cell_type": "code",
   "execution_count": 12,
   "id": "839a9330",
   "metadata": {},
   "outputs": [
    {
     "ename": "TypeError",
     "evalue": "'int' object is not iterable",
     "output_type": "error",
     "traceback": [
      "\u001b[0;31m---------------------------------------------------------------------------\u001b[0m",
      "\u001b[0;31mTypeError\u001b[0m                                 Traceback (most recent call last)",
      "Cell \u001b[0;32mIn[12], line 1\u001b[0m\n\u001b[0;32m----> 1\u001b[0m \u001b[38;5;28miter\u001b[39m(\u001b[38;5;241m1\u001b[39m)\n",
      "\u001b[0;31mTypeError\u001b[0m: 'int' object is not iterable"
     ]
    }
   ],
   "source": [
    "iter(1)"
   ]
  },
  {
   "cell_type": "code",
   "execution_count": 17,
   "id": "bccdd73a",
   "metadata": {},
   "outputs": [
    {
     "data": {
      "text/plain": [
       "True"
      ]
     },
     "execution_count": 17,
     "metadata": {},
     "output_type": "execute_result"
    }
   ],
   "source": [
    "'__iter__' in dir([])"
   ]
  },
  {
   "cell_type": "code",
   "execution_count": 14,
   "id": "cca2d16b",
   "metadata": {},
   "outputs": [],
   "source": [
    "# iter([]) delegates to [].__iter__()"
   ]
  },
  {
   "cell_type": "code",
   "execution_count": 16,
   "id": "0a21c253",
   "metadata": {},
   "outputs": [
    {
     "data": {
      "text/plain": [
       "False"
      ]
     },
     "execution_count": 16,
     "metadata": {},
     "output_type": "execute_result"
    }
   ],
   "source": [
    "'__iter__' in dir(int)"
   ]
  },
  {
   "cell_type": "code",
   "execution_count": 19,
   "id": "fec2b845",
   "metadata": {},
   "outputs": [
    {
     "data": {
      "text/plain": [
       "True"
      ]
     },
     "execution_count": 19,
     "metadata": {},
     "output_type": "execute_result"
    }
   ],
   "source": [
    "'__next__' in dir(iter([]))  # True for an iterator"
   ]
  },
  {
   "cell_type": "code",
   "execution_count": 23,
   "id": "eb818dff",
   "metadata": {},
   "outputs": [
    {
     "data": {
      "text/plain": [
       "1"
      ]
     },
     "execution_count": 23,
     "metadata": {},
     "output_type": "execute_result"
    }
   ],
   "source": [
    "next(iter([1, 2, 3]))"
   ]
  },
  {
   "cell_type": "code",
   "execution_count": 24,
   "id": "d368fd16",
   "metadata": {},
   "outputs": [],
   "source": [
    "it = iter([1, 2, 3])"
   ]
  },
  {
   "cell_type": "code",
   "execution_count": 25,
   "id": "41ad6eba",
   "metadata": {},
   "outputs": [
    {
     "data": {
      "text/plain": [
       "1"
      ]
     },
     "execution_count": 25,
     "metadata": {},
     "output_type": "execute_result"
    }
   ],
   "source": [
    "next(it)"
   ]
  },
  {
   "cell_type": "code",
   "execution_count": 26,
   "id": "14d4cae8",
   "metadata": {},
   "outputs": [
    {
     "data": {
      "text/plain": [
       "2"
      ]
     },
     "execution_count": 26,
     "metadata": {},
     "output_type": "execute_result"
    }
   ],
   "source": [
    "next(it)"
   ]
  },
  {
   "cell_type": "code",
   "execution_count": 27,
   "id": "2bca4a83",
   "metadata": {},
   "outputs": [
    {
     "data": {
      "text/plain": [
       "3"
      ]
     },
     "execution_count": 27,
     "metadata": {},
     "output_type": "execute_result"
    }
   ],
   "source": [
    "next(it)"
   ]
  },
  {
   "cell_type": "code",
   "execution_count": 28,
   "id": "1d2a774b",
   "metadata": {},
   "outputs": [
    {
     "ename": "StopIteration",
     "evalue": "",
     "output_type": "error",
     "traceback": [
      "\u001b[0;31m---------------------------------------------------------------------------\u001b[0m",
      "\u001b[0;31mStopIteration\u001b[0m                             Traceback (most recent call last)",
      "Cell \u001b[0;32mIn[28], line 1\u001b[0m\n\u001b[0;32m----> 1\u001b[0m \u001b[38;5;28mnext\u001b[39m(it)\n",
      "\u001b[0;31mStopIteration\u001b[0m: "
     ]
    }
   ],
   "source": [
    "next(it)"
   ]
  },
  {
   "cell_type": "code",
   "execution_count": 29,
   "id": "a4341366",
   "metadata": {},
   "outputs": [],
   "source": [
    "class Counter:\n",
    "    def __init__(self, size):\n",
    "        print(\"__init__:\", size)\n",
    "        self.size = size\n",
    "        self.start = 0\n",
    "    def __iter__(self):\n",
    "        print(\"__iter__:\", self.size)\n",
    "        return CounterIter(self.start, self.size)\n",
    "    \n",
    "class CounterIter:\n",
    "    def __init__(self, start, size):\n",
    "        self.start = start\n",
    "        self.size = size\n",
    "    def __next__(self):\n",
    "        if self.start < self.size:\n",
    "            self.start = self.start + 1\n",
    "            return self.start\n",
    "        raise StopIteration"
   ]
  },
  {
   "cell_type": "code",
   "execution_count": 30,
   "id": "3a6151d7",
   "metadata": {},
   "outputs": [
    {
     "name": "stdout",
     "output_type": "stream",
     "text": [
      "__init__: 3\n",
      "__iter__: 3\n",
      "1\n",
      "2\n",
      "3\n"
     ]
    }
   ],
   "source": [
    "for n in Counter(3):\n",
    "    print(n)"
   ]
  },
  {
   "cell_type": "code",
   "execution_count": 31,
   "id": "940ad3d1",
   "metadata": {},
   "outputs": [
    {
     "name": "stdout",
     "output_type": "stream",
     "text": [
      "__init__: 3\n"
     ]
    }
   ],
   "source": [
    "a_iterable = Counter(3)"
   ]
  },
  {
   "cell_type": "code",
   "execution_count": 32,
   "id": "3a2d1338",
   "metadata": {},
   "outputs": [
    {
     "name": "stdout",
     "output_type": "stream",
     "text": [
      "__iter__: 3\n"
     ]
    }
   ],
   "source": [
    "a_iterator = iter(a_iterable)"
   ]
  },
  {
   "cell_type": "code",
   "execution_count": 33,
   "id": "dc85779a",
   "metadata": {},
   "outputs": [
    {
     "data": {
      "text/plain": [
       "1"
      ]
     },
     "execution_count": 33,
     "metadata": {},
     "output_type": "execute_result"
    }
   ],
   "source": [
    "next(a_iterator)"
   ]
  },
  {
   "cell_type": "code",
   "execution_count": 34,
   "id": "d2c12a61",
   "metadata": {},
   "outputs": [
    {
     "data": {
      "text/plain": [
       "2"
      ]
     },
     "execution_count": 34,
     "metadata": {},
     "output_type": "execute_result"
    }
   ],
   "source": [
    "next(a_iterator)"
   ]
  },
  {
   "cell_type": "code",
   "execution_count": 35,
   "id": "2d219a71",
   "metadata": {},
   "outputs": [
    {
     "data": {
      "text/plain": [
       "3"
      ]
     },
     "execution_count": 35,
     "metadata": {},
     "output_type": "execute_result"
    }
   ],
   "source": [
    "next(a_iterator)"
   ]
  },
  {
   "cell_type": "code",
   "execution_count": 36,
   "id": "15bf86af",
   "metadata": {},
   "outputs": [
    {
     "ename": "StopIteration",
     "evalue": "",
     "output_type": "error",
     "traceback": [
      "\u001b[0;31m---------------------------------------------------------------------------\u001b[0m",
      "\u001b[0;31mStopIteration\u001b[0m                             Traceback (most recent call last)",
      "Cell \u001b[0;32mIn[36], line 1\u001b[0m\n\u001b[0;32m----> 1\u001b[0m \u001b[38;5;28mnext\u001b[39m(a_iterator)\n",
      "Cell \u001b[0;32mIn[29], line 18\u001b[0m, in \u001b[0;36mCounterIter.__next__\u001b[0;34m(self)\u001b[0m\n\u001b[1;32m     16\u001b[0m     \u001b[38;5;28mself\u001b[39m\u001b[38;5;241m.\u001b[39mstart \u001b[38;5;241m=\u001b[39m \u001b[38;5;28mself\u001b[39m\u001b[38;5;241m.\u001b[39mstart \u001b[38;5;241m+\u001b[39m \u001b[38;5;241m1\u001b[39m\n\u001b[1;32m     17\u001b[0m     \u001b[38;5;28;01mreturn\u001b[39;00m \u001b[38;5;28mself\u001b[39m\u001b[38;5;241m.\u001b[39mstart\n\u001b[0;32m---> 18\u001b[0m \u001b[38;5;28;01mraise\u001b[39;00m \u001b[38;5;167;01mStopIteration\u001b[39;00m\n",
      "\u001b[0;31mStopIteration\u001b[0m: "
     ]
    }
   ],
   "source": [
    "next(a_iterator)"
   ]
  },
  {
   "cell_type": "code",
   "execution_count": 37,
   "id": "18da6e01",
   "metadata": {},
   "outputs": [],
   "source": [
    "# generators"
   ]
  },
  {
   "cell_type": "code",
   "execution_count": 44,
   "id": "80592fe5",
   "metadata": {},
   "outputs": [],
   "source": [
    "def g(n):\n",
    "    print('enter g with',n)\n",
    "    yield n\n",
    "    yield n + 1\n",
    "    print('after yield')"
   ]
  },
  {
   "cell_type": "code",
   "execution_count": 45,
   "id": "2d453b08",
   "metadata": {},
   "outputs": [
    {
     "data": {
      "text/plain": [
       "<generator object g at 0x7f8e7020d970>"
      ]
     },
     "execution_count": 45,
     "metadata": {},
     "output_type": "execute_result"
    }
   ],
   "source": [
    "g(2)"
   ]
  },
  {
   "cell_type": "code",
   "execution_count": 46,
   "id": "47545bdf",
   "metadata": {},
   "outputs": [
    {
     "data": {
      "text/plain": [
       "True"
      ]
     },
     "execution_count": 46,
     "metadata": {},
     "output_type": "execute_result"
    }
   ],
   "source": [
    "'__iter__' in dir(g(2))"
   ]
  },
  {
   "cell_type": "code",
   "execution_count": 47,
   "id": "1479b7c8",
   "metadata": {},
   "outputs": [
    {
     "data": {
      "text/plain": [
       "True"
      ]
     },
     "execution_count": 47,
     "metadata": {},
     "output_type": "execute_result"
    }
   ],
   "source": [
    "'__next__' in dir(g(2))"
   ]
  },
  {
   "cell_type": "code",
   "execution_count": 48,
   "id": "6ef2ea87",
   "metadata": {},
   "outputs": [
    {
     "name": "stdout",
     "output_type": "stream",
     "text": [
      "enter g with 2\n",
      "after yield\n"
     ]
    },
    {
     "data": {
      "text/plain": [
       "[2, 3]"
      ]
     },
     "execution_count": 48,
     "metadata": {},
     "output_type": "execute_result"
    }
   ],
   "source": [
    "list(g(2))"
   ]
  },
  {
   "cell_type": "code",
   "execution_count": 49,
   "id": "75b33c38",
   "metadata": {},
   "outputs": [
    {
     "name": "stdout",
     "output_type": "stream",
     "text": [
      "enter g with 2\n",
      "2\n",
      "3\n",
      "after yield\n"
     ]
    }
   ],
   "source": [
    "for n in g(2):\n",
    "    print(n)"
   ]
  },
  {
   "cell_type": "markdown",
   "id": "d017820e",
   "metadata": {},
   "source": [
    "Example: a given number of Fibonacci sequence nubmers"
   ]
  },
  {
   "cell_type": "code",
   "execution_count": 50,
   "id": "d6e508eb",
   "metadata": {},
   "outputs": [],
   "source": [
    "def f(n):\n",
    "    \"\"\"\n",
    "    Return the n first numbers in the Fibonacci sequence\n",
    "    \"\"\"\n",
    "    count = 0\n",
    "    a = 0\n",
    "    b = 1\n",
    "    while count < n:\n",
    "        yield a\n",
    "        a, b = b, a+b\n",
    "        count += 1"
   ]
  },
  {
   "cell_type": "code",
   "execution_count": 51,
   "id": "7ce9cebf",
   "metadata": {},
   "outputs": [
    {
     "data": {
      "text/plain": [
       "[0, 1, 1, 2, 3]"
      ]
     },
     "execution_count": 51,
     "metadata": {},
     "output_type": "execute_result"
    }
   ],
   "source": [
    "list(f(5))"
   ]
  },
  {
   "cell_type": "code",
   "execution_count": 52,
   "id": "13369b7c",
   "metadata": {},
   "outputs": [
    {
     "data": {
      "text/plain": [
       "[0, 1, 1, 2, 3, 5, 8, 13, 21, 34]"
      ]
     },
     "execution_count": 52,
     "metadata": {},
     "output_type": "execute_result"
    }
   ],
   "source": [
    "list(f(10))"
   ]
  },
  {
   "cell_type": "code",
   "execution_count": null,
   "id": "21a89e8b",
   "metadata": {},
   "outputs": [],
   "source": []
  }
 ],
 "metadata": {
  "kernelspec": {
   "display_name": "Python 3 (ipykernel)",
   "language": "python",
   "name": "python3"
  },
  "language_info": {
   "codemirror_mode": {
    "name": "ipython",
    "version": 3
   },
   "file_extension": ".py",
   "mimetype": "text/x-python",
   "name": "python",
   "nbconvert_exporter": "python",
   "pygments_lexer": "ipython3",
   "version": "3.11.0"
  }
 },
 "nbformat": 4,
 "nbformat_minor": 5
}
