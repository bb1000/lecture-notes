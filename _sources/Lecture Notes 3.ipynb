{
 "cells": [
  {
   "cell_type": "markdown",
   "id": "718f5156",
   "metadata": {},
   "source": [
    "# Lecture notes 3\n",
    "## Numbers\n",
    "\n",
    "Example: suppose you have a recepe which requires \"red\" milk, and you only have \"green\" milk, how much milk do you have to replace with cream to get the same fat content. With required volume $v$ and replaced volume $x$ we have a fat-balance equation\n",
    "\n",
    "$$1.5\\% (v - x) + 40 \\% x = 3\\% v$$\n",
    "$$x = \\frac{3 - 1.5}{40 - 1.5}v $$"
   ]
  },
  {
   "cell_type": "code",
   "execution_count": 43,
   "id": "9487b206",
   "metadata": {},
   "outputs": [
    {
     "name": "stdout",
     "output_type": "stream",
     "text": [
      "0.03896103896103896\n"
     ]
    }
   ],
   "source": [
    "v = 1\n",
    "\n",
    "x = (3 - 1.5)/(40-1.5) * v\n",
    "\n",
    "print(x)"
   ]
  },
  {
   "cell_type": "markdown",
   "id": "f2676f08",
   "metadata": {},
   "source": [
    "For a litre, in tablespoon units, replace about 40ml (~2.5 table spoons)"
   ]
  },
  {
   "cell_type": "markdown",
   "id": "b0b30c31",
   "metadata": {},
   "source": [
    "With some refactoring, introduce more variable names"
   ]
  },
  {
   "cell_type": "code",
   "execution_count": 4,
   "id": "00047a88",
   "metadata": {},
   "outputs": [
    {
     "name": "stdout",
     "output_type": "stream",
     "text": [
      "0.03896103896103896\n"
     ]
    }
   ],
   "source": [
    "required_volume = 1\n",
    "required_fat_content = 3 # in percent\n",
    "available_fat_content = 1.5 \n",
    "cream_fat_content = 40\n",
    "\n",
    "replaced_volume = (required_fat_content - available_fat_content)/(cream_fat_content-available_fat_content) * required_volume\n",
    "\n",
    "print(replaced_volume)"
   ]
  },
  {
   "cell_type": "markdown",
   "id": "45c7a193",
   "metadata": {},
   "source": [
    "one line got a bit too long, introduce another intermediate variable `conversion_ratio`"
   ]
  },
  {
   "cell_type": "code",
   "execution_count": 5,
   "id": "c8302037",
   "metadata": {},
   "outputs": [
    {
     "name": "stdout",
     "output_type": "stream",
     "text": [
      "0.03896103896103896\n"
     ]
    }
   ],
   "source": [
    "required_volume = 1\n",
    "required_fat_content = 3 # in percent\n",
    "available_fat_content = 1.5 \n",
    "cream_fat_content = 40\n",
    "\n",
    "conversion_ratio = (required_fat_content - available_fat_content)/(cream_fat_content-available_fat_content) \n",
    "replaced_volume =  conversion_ratio * required_volume\n",
    "\n",
    "print(replaced_volume)"
   ]
  },
  {
   "cell_type": "markdown",
   "id": "b79a5292",
   "metadata": {},
   "source": [
    "## Strings"
   ]
  },
  {
   "cell_type": "code",
   "execution_count": 8,
   "id": "7448ca89",
   "metadata": {},
   "outputs": [
    {
     "data": {
      "text/plain": [
       "\"It's time\""
      ]
     },
     "execution_count": 8,
     "metadata": {},
     "output_type": "execute_result"
    }
   ],
   "source": [
    "\"It's time\""
   ]
  },
  {
   "cell_type": "code",
   "execution_count": 9,
   "id": "55c45574",
   "metadata": {},
   "outputs": [],
   "source": [
    "# 'It's time'  invalid"
   ]
  },
  {
   "cell_type": "markdown",
   "id": "d578f7f6",
   "metadata": {},
   "source": [
    "     Cell In[7], line 1\n",
    "        'It's time'\n",
    "                  ^\n",
    "    SyntaxError: unterminated string literal (detected at line 1)\n",
    "\n"
   ]
  },
  {
   "cell_type": "code",
   "execution_count": 10,
   "id": "4717002d",
   "metadata": {},
   "outputs": [
    {
     "data": {
      "text/plain": [
       "\"It's time\""
      ]
     },
     "execution_count": 10,
     "metadata": {},
     "output_type": "execute_result"
    }
   ],
   "source": [
    "'It\\'s time'   # \\' means use the literal character '"
   ]
  },
  {
   "cell_type": "code",
   "execution_count": 11,
   "id": "3cc75162",
   "metadata": {},
   "outputs": [
    {
     "name": "stdout",
     "output_type": "stream",
     "text": [
      "\n",
      "Hello\n",
      "world\n",
      "\n"
     ]
    }
   ],
   "source": [
    "print(\"\"\"\n",
    "Hello\n",
    "world\n",
    "\"\"\")"
   ]
  },
  {
   "cell_type": "code",
   "execution_count": 12,
   "id": "a5ff9062",
   "metadata": {},
   "outputs": [
    {
     "data": {
      "text/plain": [
       "'\\nHello\\nworld\\n'"
      ]
     },
     "execution_count": 12,
     "metadata": {},
     "output_type": "execute_result"
    }
   ],
   "source": [
    "\"\"\"\n",
    "Hello\n",
    "world\n",
    "\"\"\""
   ]
  },
  {
   "cell_type": "markdown",
   "id": "782d6c0d",
   "metadata": {},
   "source": [
    "`\\n` means newline character"
   ]
  },
  {
   "cell_type": "code",
   "execution_count": 13,
   "id": "5825d6e6",
   "metadata": {},
   "outputs": [
    {
     "data": {
      "text/plain": [
       "'helloworld'"
      ]
     },
     "execution_count": 13,
     "metadata": {},
     "output_type": "execute_result"
    }
   ],
   "source": [
    "'hello' + 'world'"
   ]
  },
  {
   "cell_type": "code",
   "execution_count": 14,
   "id": "3bd66a76",
   "metadata": {},
   "outputs": [
    {
     "data": {
      "text/plain": [
       "'byebye'"
      ]
     },
     "execution_count": 14,
     "metadata": {},
     "output_type": "execute_result"
    }
   ],
   "source": [
    "'bye' + 'bye'"
   ]
  },
  {
   "cell_type": "code",
   "execution_count": 15,
   "id": "2a8d4e19",
   "metadata": {},
   "outputs": [
    {
     "data": {
      "text/plain": [
       "'byebyebye'"
      ]
     },
     "execution_count": 15,
     "metadata": {},
     "output_type": "execute_result"
    }
   ],
   "source": [
    "'bye' + 'bye' + 'bye'"
   ]
  },
  {
   "cell_type": "markdown",
   "id": "d8ddbe62",
   "metadata": {},
   "source": [
    "with this definition of addition a generalized integer multiplication follows"
   ]
  },
  {
   "cell_type": "code",
   "execution_count": 16,
   "id": "f38bc236",
   "metadata": {},
   "outputs": [
    {
     "data": {
      "text/plain": [
       "'byebyebye'"
      ]
     },
     "execution_count": 16,
     "metadata": {},
     "output_type": "execute_result"
    }
   ],
   "source": [
    "3 * 'bye'"
   ]
  },
  {
   "cell_type": "markdown",
   "id": "a6e12af5",
   "metadata": {},
   "source": [
    "Some string functions (or methods)"
   ]
  },
  {
   "cell_type": "code",
   "execution_count": 45,
   "id": "ba3bb1a8",
   "metadata": {},
   "outputs": [
    {
     "data": {
      "text/plain": [
       "'Gone with the wind'"
      ]
     },
     "execution_count": 45,
     "metadata": {},
     "output_type": "execute_result"
    }
   ],
   "source": [
    "'gone with the wind'.capitalize()"
   ]
  },
  {
   "cell_type": "code",
   "execution_count": 46,
   "id": "5b4cbd17",
   "metadata": {},
   "outputs": [
    {
     "data": {
      "text/plain": [
       "'Gone With The Wind'"
      ]
     },
     "execution_count": 46,
     "metadata": {},
     "output_type": "execute_result"
    }
   ],
   "source": [
    "'gone with the wind'.title()"
   ]
  },
  {
   "cell_type": "markdown",
   "id": "65eb617c",
   "metadata": {},
   "source": [
    "Suppose we want to underline a title such that\n",
    "\n",
    "    Gone With The Wind\n",
    "    =================="
   ]
  },
  {
   "cell_type": "code",
   "execution_count": 47,
   "id": "9258b0ab",
   "metadata": {},
   "outputs": [
    {
     "data": {
      "text/plain": [
       "'Gone With The Wind\\n=================='"
      ]
     },
     "execution_count": 47,
     "metadata": {},
     "output_type": "execute_result"
    }
   ],
   "source": [
    "movie = 'gone with the wind'\n",
    "movie.title() + \"\\n\" + \"=\"*len(movie)"
   ]
  },
  {
   "cell_type": "code",
   "execution_count": 48,
   "id": "2adeb7f8",
   "metadata": {},
   "outputs": [
    {
     "name": "stdout",
     "output_type": "stream",
     "text": [
      "Gone With The Wind\n",
      "==================\n"
     ]
    }
   ],
   "source": [
    "print(movie.title() + \"\\n\" + \"=\"*len(movie))"
   ]
  },
  {
   "cell_type": "markdown",
   "id": "9c727ee1",
   "metadata": {},
   "source": [
    "## Lists"
   ]
  },
  {
   "cell_type": "code",
   "execution_count": 22,
   "id": "de6a62de",
   "metadata": {},
   "outputs": [],
   "source": [
    "colours = ['hearts', 'spades', 'diamonds', 'clubs']"
   ]
  },
  {
   "cell_type": "code",
   "execution_count": 23,
   "id": "3c9c36af",
   "metadata": {},
   "outputs": [
    {
     "data": {
      "text/plain": [
       "'hearts'"
      ]
     },
     "execution_count": 23,
     "metadata": {},
     "output_type": "execute_result"
    }
   ],
   "source": [
    "colours[0]"
   ]
  },
  {
   "cell_type": "code",
   "execution_count": 24,
   "id": "bfb1d50b",
   "metadata": {},
   "outputs": [
    {
     "data": {
      "text/plain": [
       "'clubs'"
      ]
     },
     "execution_count": 24,
     "metadata": {},
     "output_type": "execute_result"
    }
   ],
   "source": [
    "colours[3]"
   ]
  },
  {
   "cell_type": "code",
   "execution_count": 25,
   "id": "15aee1bc",
   "metadata": {},
   "outputs": [
    {
     "ename": "IndexError",
     "evalue": "list index out of range",
     "output_type": "error",
     "traceback": [
      "\u001b[0;31m---------------------------------------------------------------------------\u001b[0m",
      "\u001b[0;31mIndexError\u001b[0m                                Traceback (most recent call last)",
      "Cell \u001b[0;32mIn[25], line 1\u001b[0m\n\u001b[0;32m----> 1\u001b[0m colours[\u001b[38;5;241m4\u001b[39m]\n",
      "\u001b[0;31mIndexError\u001b[0m: list index out of range"
     ]
    }
   ],
   "source": [
    "colours[4]"
   ]
  },
  {
   "cell_type": "code",
   "execution_count": 26,
   "id": "3623a8fc",
   "metadata": {},
   "outputs": [
    {
     "data": {
      "text/plain": [
       "4"
      ]
     },
     "execution_count": 26,
     "metadata": {},
     "output_type": "execute_result"
    }
   ],
   "source": [
    "len(colours)"
   ]
  },
  {
   "cell_type": "code",
   "execution_count": 27,
   "id": "e5a2b2c2",
   "metadata": {},
   "outputs": [
    {
     "data": {
      "text/plain": [
       "'clubs'"
      ]
     },
     "execution_count": 27,
     "metadata": {},
     "output_type": "execute_result"
    }
   ],
   "source": [
    "# the last element\n",
    "colours[len(colours) - 1]"
   ]
  },
  {
   "cell_type": "code",
   "execution_count": 28,
   "id": "5cb03f38",
   "metadata": {},
   "outputs": [
    {
     "data": {
      "text/plain": [
       "'clubs'"
      ]
     },
     "execution_count": 28,
     "metadata": {},
     "output_type": "execute_result"
    }
   ],
   "source": [
    "colours[-1]  # counts from the end"
   ]
  },
  {
   "cell_type": "code",
   "execution_count": 29,
   "id": "6c4f1b4e",
   "metadata": {},
   "outputs": [
    {
     "data": {
      "text/plain": [
       "'diamonds'"
      ]
     },
     "execution_count": 29,
     "metadata": {},
     "output_type": "execute_result"
    }
   ],
   "source": [
    "colours[-2]"
   ]
  },
  {
   "cell_type": "code",
   "execution_count": 30,
   "id": "e42803e7",
   "metadata": {},
   "outputs": [
    {
     "data": {
      "text/plain": [
       "['hearts', 'spades', 'diamonds', 'clubs']"
      ]
     },
     "execution_count": 30,
     "metadata": {},
     "output_type": "execute_result"
    }
   ],
   "source": [
    "colours"
   ]
  },
  {
   "cell_type": "code",
   "execution_count": 31,
   "id": "90ce691a",
   "metadata": {},
   "outputs": [],
   "source": [
    "colours[-1]  = 'CLUBS'"
   ]
  },
  {
   "cell_type": "code",
   "execution_count": 32,
   "id": "c93abce2",
   "metadata": {},
   "outputs": [
    {
     "data": {
      "text/plain": [
       "['hearts', 'spades', 'diamonds', 'CLUBS']"
      ]
     },
     "execution_count": 32,
     "metadata": {},
     "output_type": "execute_result"
    }
   ],
   "source": [
    "colours"
   ]
  },
  {
   "cell_type": "code",
   "execution_count": 33,
   "id": "8ca9bc99",
   "metadata": {},
   "outputs": [],
   "source": [
    "colours_tuple = ('hearts', 'spades', 'diamonds', 'clubs')"
   ]
  },
  {
   "cell_type": "code",
   "execution_count": 34,
   "id": "8996770a",
   "metadata": {},
   "outputs": [
    {
     "data": {
      "text/plain": [
       "'hearts'"
      ]
     },
     "execution_count": 34,
     "metadata": {},
     "output_type": "execute_result"
    }
   ],
   "source": [
    "colours_tuple[0]\n"
   ]
  },
  {
   "cell_type": "code",
   "execution_count": 35,
   "id": "9d4ca87e",
   "metadata": {},
   "outputs": [
    {
     "data": {
      "text/plain": [
       "'clubs'"
      ]
     },
     "execution_count": 35,
     "metadata": {},
     "output_type": "execute_result"
    }
   ],
   "source": [
    "colours_tuple[-1]\n"
   ]
  },
  {
   "cell_type": "code",
   "execution_count": 36,
   "id": "50f533d9",
   "metadata": {},
   "outputs": [
    {
     "ename": "TypeError",
     "evalue": "'tuple' object does not support item assignment",
     "output_type": "error",
     "traceback": [
      "\u001b[0;31m---------------------------------------------------------------------------\u001b[0m",
      "\u001b[0;31mTypeError\u001b[0m                                 Traceback (most recent call last)",
      "Cell \u001b[0;32mIn[36], line 1\u001b[0m\n\u001b[0;32m----> 1\u001b[0m colours_tuple[\u001b[38;5;241m-\u001b[39m\u001b[38;5;241m1\u001b[39m] \u001b[38;5;241m=\u001b[39m \u001b[38;5;124m'\u001b[39m\u001b[38;5;124mCLUBS\u001b[39m\u001b[38;5;124m'\u001b[39m\n",
      "\u001b[0;31mTypeError\u001b[0m: 'tuple' object does not support item assignment"
     ]
    }
   ],
   "source": [
    "colours_tuple[-1] = 'CLUBS'\n"
   ]
  },
  {
   "cell_type": "markdown",
   "id": "a1f3d9d4",
   "metadata": {},
   "source": [
    "## dictionaries"
   ]
  },
  {
   "cell_type": "code",
   "execution_count": 37,
   "id": "3a79575f",
   "metadata": {},
   "outputs": [],
   "source": [
    "newdict = {'a': 1, 'b': 2}"
   ]
  },
  {
   "cell_type": "code",
   "execution_count": 38,
   "id": "1bd6ae1c",
   "metadata": {},
   "outputs": [
    {
     "data": {
      "text/plain": [
       "2"
      ]
     },
     "execution_count": 38,
     "metadata": {},
     "output_type": "execute_result"
    }
   ],
   "source": [
    "len(newdict)"
   ]
  },
  {
   "cell_type": "code",
   "execution_count": 39,
   "id": "358c0a1f",
   "metadata": {},
   "outputs": [
    {
     "data": {
      "text/plain": [
       "dict_keys(['a', 'b'])"
      ]
     },
     "execution_count": 39,
     "metadata": {},
     "output_type": "execute_result"
    }
   ],
   "source": [
    "newdict.keys()"
   ]
  },
  {
   "cell_type": "code",
   "execution_count": 40,
   "id": "632e1f26",
   "metadata": {},
   "outputs": [
    {
     "data": {
      "text/plain": [
       "dict_values([1, 2])"
      ]
     },
     "execution_count": 40,
     "metadata": {},
     "output_type": "execute_result"
    }
   ],
   "source": [
    "newdict.values()"
   ]
  },
  {
   "cell_type": "code",
   "execution_count": 41,
   "id": "beae47f2",
   "metadata": {},
   "outputs": [
    {
     "data": {
      "text/plain": [
       "1"
      ]
     },
     "execution_count": 41,
     "metadata": {},
     "output_type": "execute_result"
    }
   ],
   "source": [
    "newdict['a']"
   ]
  },
  {
   "cell_type": "code",
   "execution_count": 42,
   "id": "24f30b9b",
   "metadata": {},
   "outputs": [
    {
     "data": {
      "text/plain": [
       "2"
      ]
     },
     "execution_count": 42,
     "metadata": {},
     "output_type": "execute_result"
    }
   ],
   "source": [
    "newdict['b']"
   ]
  },
  {
   "cell_type": "markdown",
   "id": "4bc63a02",
   "metadata": {},
   "source": [
    "## evaluate \n",
    "\n",
    "https://codechalleng.es\n",
    "\n",
    "sign up for a trial account"
   ]
  }
 ],
 "metadata": {
  "kernelspec": {
   "display_name": "Python 3 (ipykernel)",
   "language": "python",
   "name": "python3"
  },
  "language_info": {
   "codemirror_mode": {
    "name": "ipython",
    "version": 3
   },
   "file_extension": ".py",
   "mimetype": "text/x-python",
   "name": "python",
   "nbconvert_exporter": "python",
   "pygments_lexer": "ipython3",
   "version": "3.11.0"
  }
 },
 "nbformat": 4,
 "nbformat_minor": 5
}
