{
 "cells": [
  {
   "cell_type": "markdown",
   "id": "30a42add",
   "metadata": {},
   "source": [
    "# Lecture Notes 7\n",
    "\n",
    "## Testing\n",
    "\n",
    "Testing frameworks are based on the `assert` statement. If the expressions following `assert` is \n",
    "\n",
    "* `True`: go on as usual\n",
    "* `False`: an `AssertionError` makes a program stop or can be handled by a framework (some error report)"
   ]
  },
  {
   "cell_type": "code",
   "execution_count": 6,
   "id": "90450f88",
   "metadata": {},
   "outputs": [],
   "source": [
    "assert True"
   ]
  },
  {
   "cell_type": "code",
   "execution_count": 7,
   "id": "13f85459",
   "metadata": {},
   "outputs": [
    {
     "ename": "AssertionError",
     "evalue": "",
     "output_type": "error",
     "traceback": [
      "\u001b[0;31m---------------------------------------------------------------------------\u001b[0m",
      "\u001b[0;31mAssertionError\u001b[0m                            Traceback (most recent call last)",
      "Cell \u001b[0;32mIn[7], line 1\u001b[0m\n\u001b[0;32m----> 1\u001b[0m \u001b[38;5;28;01massert\u001b[39;00m \u001b[38;5;28;01mFalse\u001b[39;00m\n",
      "\u001b[0;31mAssertionError\u001b[0m: "
     ]
    }
   ],
   "source": [
    "assert False"
   ]
  },
  {
   "cell_type": "markdown",
   "id": "4bf92c45",
   "metadata": {},
   "source": [
    "## Testing with doctest\n",
    "\n",
    "### Example: the fat mix\n",
    "\n",
    "Here we refactor the original code \n",
    "\n",
    "<pre>\n",
    "import sys\n",
    "\n",
    "def main():\n",
    "\n",
    "    if len(sys.argv) > 1:\n",
    "        required_volume = float(sys.argv[1])    \n",
    "    else:\n",
    "        print(\"Usage:\", sys.argv[0], \"<required_volume>\")\n",
    "        exit()\n",
    "\n",
    "    required_fat_content = 3 # in percent\n",
    "    available_fat_content = 1.5 \n",
    "    cream_fat_content = 40\n",
    "\n",
    "    <span style=\"background-color: yellow;\">conversion_ratio = (required_fat_content - available_fat_content)/(cream_fat_content-available_fat_content)</span>\n",
    "    replaced_volume =  conversion_ratio * required_volume\n",
    "\n",
    "    print(f'Replaced volume: {replaced_volume:5.1g}')\n",
    "\n",
    "\n",
    "main()\n",
    "</pre>\n",
    "\n",
    "by extracting the conversion_ratio calculation to a function\n",
    "and introduce a test in the docstring\n"
   ]
  },
  {
   "cell_type": "markdown",
   "id": "26bcbb77",
   "metadata": {},
   "source": [
    "<pre>\n",
    "import sys\n",
    "\n",
    "<div style=\"background-color: yellow;\">\n",
    "def get_conversion_ratio(required_fat_content, available_fat_content, cream_fat_content):\n",
    "    \"\"\"\n",
    "    Calculate fat conversion ration\n",
    "\n",
    "    >>> get_conversion_ratio(3, 3, 40)\n",
    "    0.0\n",
    "    >>> round(get_conversion_ratio(3, 1.5, 40), 2)\n",
    "    0.04\n",
    "\n",
    "    \"\"\"\n",
    "    conversion_ratio = (required_fat_content - available_fat_content)/(cream_fat_content-available_fat_content) \n",
    "    return conversion_ratio\n",
    "</div>\n",
    "\n",
    "def main():\n",
    "\n",
    "    if len(sys.argv) > 1:\n",
    "        required_volume = float(sys.argv[1])    \n",
    "    else:\n",
    "        print(\"Usage:\", sys.argv[0], \"<required_volume>\")\n",
    "        exit()\n",
    "\n",
    "    required_fat_content = 3 # in percent\n",
    "    available_fat_content = 1.5 \n",
    "    cream_fat_content = 40\n",
    "\n",
    "<div style=\"background-color: yellow;\">\n",
    "    conversion_ratio = get_conversion_ratio(required_fat_content, available_fat_content, cream_fat_content)\n",
    "</div>\n",
    "    replaced_volume =  conversion_ratio * required_volume\n",
    "\n",
    "    print(f'Replaced volume: {replaced_volume:5.1g}')\n",
    "\n",
    "print(f\"__name__ = {__name__}\")\n",
    "if __name__ == \"__main__\":\n",
    "    main()\n",
    "\n",
    "</pre>\n"
   ]
  },
  {
   "cell_type": "markdown",
   "id": "2bafc6ea",
   "metadata": {},
   "source": [
    "* The docstring contains a copy-paste of an interactive session in the REPL \n",
    "* The doctest library recognizes these code snippets as tests and are executed with"
   ]
  },
  {
   "cell_type": "code",
   "execution_count": 14,
   "id": "bcf2be49",
   "metadata": {},
   "outputs": [
    {
     "name": "stdout",
     "output_type": "stream",
     "text": [
      "__name__ = green2red\r\n",
      "Trying:\r\n",
      "    get_conversion_ratio(3, 3, 40)\r\n",
      "Expecting:\r\n",
      "    0.0\r\n",
      "ok\r\n",
      "Trying:\r\n",
      "    round(get_conversion_ratio(3, 1.5, 40), 2)\r\n",
      "Expecting:\r\n",
      "    0.04\r\n",
      "ok\r\n",
      "2 items had no tests:\r\n",
      "    green2red\r\n",
      "    green2red.main\r\n",
      "1 items passed all tests:\r\n",
      "   2 tests in green2red.get_conversion_ratio\r\n",
      "2 tests in 3 items.\r\n",
      "2 passed and 0 failed.\r\n",
      "Test passed.\r\n"
     ]
    }
   ],
   "source": [
    "!python -m doctest /home/python-lll/projects/recipe/green2red.py -v"
   ]
  },
  {
   "cell_type": "markdown",
   "id": "6adc97eb",
   "metadata": {},
   "source": [
    "### What does `__name__ == \"__main__\"` mean?\n",
    "\n",
    "Observe how the special variable `__name__` is used\n",
    "\n",
    "The line\n",
    "\n",
    "    print(f\"__name__ = {__name__}\")\n",
    "    \n",
    "shows different output depending on context:\n",
    "\n",
    "* during import (what testing libraries do)\n",
    "\n",
    "    `__name__ = green2red` \n",
    "   \n",
    "* during normal run\n",
    "\n",
    "    `__name__ = __main__`  \n",
    "    \n",
    "We only want to execute the full code during a normal run, therefore we have the if clause in the end\n",
    "\n",
    "    if __name__ == \"__main__\":\n",
    "        main()\n"
   ]
  },
  {
   "cell_type": "markdown",
   "id": "6d3eaf1b",
   "metadata": {},
   "source": [
    "## Testing with pytest"
   ]
  },
  {
   "cell_type": "markdown",
   "id": "828c18eb",
   "metadata": {},
   "source": [
    "An equivalent test for the `pytest` framework means to define separate test functions for these cases in a separate file. They normally contain one or sometimes more assert statements to compare calculated vs expected values"
   ]
  },
  {
   "cell_type": "markdown",
   "id": "d4f97453",
   "metadata": {},
   "source": [
    "    import green2red\n",
    "\n",
    "    def test_conversion_ratio_trivial():\n",
    "        calculated = green2red.get_conversion_ratio(3, 3, 40)\n",
    "        expected = 0\n",
    "        assert calculated == expected\n",
    "\n",
    "    def test_conversion_ratio():\n",
    "        calculated = green2red.get_conversion_ratio(3, 1.5, 40)\n",
    "        expected = 0.039\n",
    "        assert abs(calculated - expected) < .001"
   ]
  },
  {
   "cell_type": "code",
   "execution_count": 18,
   "id": "aad1a21d",
   "metadata": {},
   "outputs": [
    {
     "name": "stdout",
     "output_type": "stream",
     "text": [
      "\u001b[1m============================= test session starts ==============================\u001b[0m\r\n",
      "platform linux -- Python 3.11.0, pytest-7.1.2, pluggy-1.0.0 -- /home/python-lll/miniconda3/envs/bb1000/bin/python\r\n",
      "cachedir: .pytest_cache\r\n",
      "rootdir: /home/python-lll\r\n",
      "plugins: anyio-3.5.0\r\n",
      "\u001b[1mcollecting ... \u001b[0m\u001b[1m\r",
      "collected 2 items                                                              \u001b[0m\r\n",
      "\r\n",
      "../../projects/recipe/test_green2red.py::test_conversion_ratio_trivial \u001b[32mPASSED\u001b[0m\u001b[32m [ 50%]\u001b[0m\r\n",
      "../../projects/recipe/test_green2red.py::test_conversion_ratio \u001b[32mPASSED\u001b[0m\u001b[32m    [100%]\u001b[0m\r\n",
      "\r\n",
      "\u001b[32m============================== \u001b[32m\u001b[1m2 passed\u001b[0m\u001b[32m in 0.00s\u001b[0m\u001b[32m ===============================\u001b[0m\r\n"
     ]
    }
   ],
   "source": [
    "!python -m pytest /home/python-lll/projects/recipe/test_green2red.py -v"
   ]
  }
 ],
 "metadata": {
  "kernelspec": {
   "display_name": "Python 3 (ipykernel)",
   "language": "python",
   "name": "python3"
  },
  "language_info": {
   "codemirror_mode": {
    "name": "ipython",
    "version": 3
   },
   "file_extension": ".py",
   "mimetype": "text/x-python",
   "name": "python",
   "nbconvert_exporter": "python",
   "pygments_lexer": "ipython3",
   "version": "3.11.0"
  }
 },
 "nbformat": 4,
 "nbformat_minor": 5
}
