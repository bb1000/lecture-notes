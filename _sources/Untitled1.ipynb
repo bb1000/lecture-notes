{
 "cells": [
  {
   "cell_type": "markdown",
   "id": "3b383f06",
   "metadata": {},
   "source": [
    "    @pytest.mark.parametrize\n",
    "    def test_xxx():\n",
    "        ..."
   ]
  },
  {
   "cell_type": "code",
   "execution_count": 1,
   "id": "50adfd22",
   "metadata": {},
   "outputs": [],
   "source": [
    "def f(x):\n",
    "    return x**2"
   ]
  },
  {
   "cell_type": "code",
   "execution_count": 2,
   "id": "4f969375",
   "metadata": {},
   "outputs": [],
   "source": [
    "def g(func):\n",
    "    print(\"Calling function with x=2\")\n",
    "    result = func(2)\n",
    "    print(\"Return value\", result)\n",
    "    return result"
   ]
  },
  {
   "cell_type": "code",
   "execution_count": 3,
   "id": "6b3f651a",
   "metadata": {},
   "outputs": [
    {
     "name": "stdout",
     "output_type": "stream",
     "text": [
      "Calling function with x=2\n",
      "Return value 4\n"
     ]
    },
    {
     "data": {
      "text/plain": [
       "4"
      ]
     },
     "execution_count": 3,
     "metadata": {},
     "output_type": "execute_result"
    }
   ],
   "source": [
    "g(f)"
   ]
  },
  {
   "cell_type": "markdown",
   "id": "b85d8c48",
   "metadata": {},
   "source": [
    "* function that takes another function as input"
   ]
  },
  {
   "cell_type": "markdown",
   "id": "f275c71f",
   "metadata": {},
   "source": [
    "## decorators\n",
    "\n",
    "* function that take a function as input and returns a function as output"
   ]
  },
  {
   "cell_type": "code",
   "execution_count": 4,
   "id": "5a7e1e7c",
   "metadata": {},
   "outputs": [],
   "source": [
    "def id_decorator(func):\n",
    "    return func"
   ]
  },
  {
   "cell_type": "code",
   "execution_count": 5,
   "id": "9e345150",
   "metadata": {},
   "outputs": [],
   "source": [
    "g = id_decorator(f)"
   ]
  },
  {
   "cell_type": "code",
   "execution_count": 6,
   "id": "021a1c58",
   "metadata": {},
   "outputs": [
    {
     "data": {
      "text/plain": [
       "4"
      ]
     },
     "execution_count": 6,
     "metadata": {},
     "output_type": "execute_result"
    }
   ],
   "source": [
    "g(2)"
   ]
  },
  {
   "cell_type": "code",
   "execution_count": 7,
   "id": "3ad68b12",
   "metadata": {},
   "outputs": [
    {
     "data": {
      "text/plain": [
       "4"
      ]
     },
     "execution_count": 7,
     "metadata": {},
     "output_type": "execute_result"
    }
   ],
   "source": [
    "f(2)"
   ]
  },
  {
   "cell_type": "markdown",
   "id": "e0b7bb83",
   "metadata": {},
   "source": [
    "* decorator that reports timing"
   ]
  },
  {
   "cell_type": "code",
   "execution_count": 8,
   "id": "d2079bd9",
   "metadata": {},
   "outputs": [],
   "source": [
    "import time\n",
    "def f(x):\n",
    "    time.sleep(1)\n",
    "    return x**2"
   ]
  },
  {
   "cell_type": "code",
   "execution_count": 9,
   "id": "2e122511",
   "metadata": {},
   "outputs": [
    {
     "data": {
      "text/plain": [
       "4"
      ]
     },
     "execution_count": 9,
     "metadata": {},
     "output_type": "execute_result"
    }
   ],
   "source": [
    "f(2)"
   ]
  },
  {
   "cell_type": "code",
   "execution_count": 10,
   "id": "73d85bcf",
   "metadata": {},
   "outputs": [
    {
     "name": "stdout",
     "output_type": "stream",
     "text": [
      "Time used in function 1.000467300415039\n"
     ]
    }
   ],
   "source": [
    "t1 = time.time()\n",
    "f(2)\n",
    "t2 = time.time()\n",
    "print(\"Time used in function\", t2-t1)"
   ]
  },
  {
   "cell_type": "code",
   "execution_count": 11,
   "id": "0ffb8be3",
   "metadata": {},
   "outputs": [],
   "source": [
    "def time_me(func):\n",
    "    def wrapper(x):\n",
    "        t1 = time.time()\n",
    "        result = func(x)\n",
    "        t2 = time.time()\n",
    "        print(\"Time used in function\", t2-t1)\n",
    "        return result\n",
    "    return wrapper"
   ]
  },
  {
   "cell_type": "code",
   "execution_count": 13,
   "id": "14bf2a43",
   "metadata": {},
   "outputs": [
    {
     "name": "stdout",
     "output_type": "stream",
     "text": [
      "Time used in function 1.000136137008667\n"
     ]
    },
    {
     "data": {
      "text/plain": [
       "4"
      ]
     },
     "execution_count": 13,
     "metadata": {},
     "output_type": "execute_result"
    }
   ],
   "source": [
    "time_me(f)(2)"
   ]
  },
  {
   "cell_type": "code",
   "execution_count": 14,
   "id": "1c96f5b6",
   "metadata": {},
   "outputs": [],
   "source": [
    "f = time_me(f)"
   ]
  },
  {
   "cell_type": "code",
   "execution_count": 15,
   "id": "c42dc90f",
   "metadata": {},
   "outputs": [
    {
     "name": "stdout",
     "output_type": "stream",
     "text": [
      "Time used in function 1.000107765197754\n"
     ]
    },
    {
     "data": {
      "text/plain": [
       "4"
      ]
     },
     "execution_count": 15,
     "metadata": {},
     "output_type": "execute_result"
    }
   ],
   "source": [
    "f(2)"
   ]
  },
  {
   "cell_type": "code",
   "execution_count": 28,
   "id": "abbb08a1",
   "metadata": {},
   "outputs": [],
   "source": [
    "@time_me\n",
    "def f(x, a=1):\n",
    "    time.sleep(1)\n",
    "    return a*x**2"
   ]
  },
  {
   "cell_type": "code",
   "execution_count": 29,
   "id": "8f7044d4",
   "metadata": {},
   "outputs": [
    {
     "name": "stdout",
     "output_type": "stream",
     "text": [
      "Time used in function 1.0001368522644043\n"
     ]
    },
    {
     "data": {
      "text/plain": [
       "4"
      ]
     },
     "execution_count": 29,
     "metadata": {},
     "output_type": "execute_result"
    }
   ],
   "source": [
    "f(2)"
   ]
  },
  {
   "cell_type": "code",
   "execution_count": 30,
   "id": "83bde9c4",
   "metadata": {},
   "outputs": [
    {
     "ename": "TypeError",
     "evalue": "time_me.<locals>.wrapper() got an unexpected keyword argument 'a'",
     "output_type": "error",
     "traceback": [
      "\u001b[0;31m---------------------------------------------------------------------------\u001b[0m",
      "\u001b[0;31mTypeError\u001b[0m                                 Traceback (most recent call last)",
      "Cell \u001b[0;32mIn[30], line 1\u001b[0m\n\u001b[0;32m----> 1\u001b[0m f(\u001b[38;5;241m2\u001b[39m, a\u001b[38;5;241m=\u001b[39m\u001b[38;5;241m.1\u001b[39m)\n",
      "\u001b[0;31mTypeError\u001b[0m: time_me.<locals>.wrapper() got an unexpected keyword argument 'a'"
     ]
    }
   ],
   "source": [
    "f(2, a=.1)"
   ]
  },
  {
   "cell_type": "markdown",
   "id": "8c9f870f",
   "metadata": {},
   "source": [
    "For general arguments: args/kwargs"
   ]
  },
  {
   "cell_type": "code",
   "execution_count": 18,
   "id": "4d374a8d",
   "metadata": {},
   "outputs": [],
   "source": [
    "def wrapper(*args, **kwargs):\n",
    "    print(args)\n",
    "    print(kwargs)"
   ]
  },
  {
   "cell_type": "code",
   "execution_count": 19,
   "id": "ee4dab80",
   "metadata": {},
   "outputs": [
    {
     "name": "stdout",
     "output_type": "stream",
     "text": [
      "()\n",
      "{}\n"
     ]
    }
   ],
   "source": [
    "wrapper()"
   ]
  },
  {
   "cell_type": "code",
   "execution_count": 20,
   "id": "e9e523b1",
   "metadata": {},
   "outputs": [
    {
     "name": "stdout",
     "output_type": "stream",
     "text": [
      "(1, 2)\n",
      "{}\n"
     ]
    }
   ],
   "source": [
    "wrapper(1, 2)"
   ]
  },
  {
   "cell_type": "code",
   "execution_count": 21,
   "id": "bf4aef51",
   "metadata": {},
   "outputs": [
    {
     "name": "stdout",
     "output_type": "stream",
     "text": [
      "(1, 2)\n",
      "{'c': 3}\n"
     ]
    }
   ],
   "source": [
    "wrapper(1, 2, c=3)"
   ]
  },
  {
   "cell_type": "code",
   "execution_count": 31,
   "id": "5fe5c807",
   "metadata": {},
   "outputs": [],
   "source": [
    "def time_me(func):\n",
    "    def wrapper(*args, **kwargs):\n",
    "        t1 = time.time()\n",
    "        result = func(*args, **kwargs)\n",
    "        t2 = time.time()\n",
    "        print(\"Time used in function\", t2-t1)\n",
    "        return result\n",
    "    return wrapper"
   ]
  },
  {
   "cell_type": "code",
   "execution_count": 32,
   "id": "50132b90",
   "metadata": {},
   "outputs": [],
   "source": [
    "@time_me\n",
    "def f(x, a=1):\n",
    "    time.sleep(1)\n",
    "    return a*x**2"
   ]
  },
  {
   "cell_type": "code",
   "execution_count": 34,
   "id": "54588ee6",
   "metadata": {},
   "outputs": [
    {
     "name": "stdout",
     "output_type": "stream",
     "text": [
      "Time used in function 1.0001630783081055\n"
     ]
    },
    {
     "data": {
      "text/plain": [
       "4"
      ]
     },
     "execution_count": 34,
     "metadata": {},
     "output_type": "execute_result"
    }
   ],
   "source": [
    "f(2)"
   ]
  },
  {
   "cell_type": "code",
   "execution_count": 35,
   "id": "af1ea70d",
   "metadata": {},
   "outputs": [
    {
     "name": "stdout",
     "output_type": "stream",
     "text": [
      "Time used in function 1.0001263618469238\n"
     ]
    },
    {
     "data": {
      "text/plain": [
       "0.4"
      ]
     },
     "execution_count": 35,
     "metadata": {},
     "output_type": "execute_result"
    }
   ],
   "source": [
    "f(2, a=0.1)"
   ]
  },
  {
   "cell_type": "markdown",
   "id": "0bfbe723",
   "metadata": {},
   "source": [
    "* decorator for debugging"
   ]
  },
  {
   "cell_type": "code",
   "execution_count": 44,
   "id": "015e6253",
   "metadata": {},
   "outputs": [],
   "source": [
    "def trace(func):\n",
    "    def wrapper(*args, **kwargs):\n",
    "        print(f\"{func.__name__} called with arguments {args}, {kwargs}\")\n",
    "        result = func(*args, **kwargs)\n",
    "        print(f\"{func.__name__} returns {result}\")\n",
    "        return result\n",
    "    return wrapper\n",
    "\n",
    "def time_me(func):\n",
    "    def wrapper(*args, **kwargs):\n",
    "        t1 = time.time()\n",
    "        result = func(*args, **kwargs)\n",
    "        t2 = time.time()\n",
    "        print(f\"Time used in {func.__name__}\", t2-t1)\n",
    "        return result\n",
    "    return wrapper"
   ]
  },
  {
   "cell_type": "code",
   "execution_count": 47,
   "id": "31f74b8a",
   "metadata": {},
   "outputs": [],
   "source": [
    "@time_me\n",
    "@trace\n",
    "def my_square(x, a=1):\n",
    "    time.sleep(1)\n",
    "    return a*x**2"
   ]
  },
  {
   "cell_type": "code",
   "execution_count": 48,
   "id": "2ed5e3f0",
   "metadata": {},
   "outputs": [
    {
     "name": "stdout",
     "output_type": "stream",
     "text": [
      "my_square called with arguments (2,), {'a': 0.1}\n",
      "my_square returns 0.4\n",
      "Time used in wrapper 1.000516653060913\n"
     ]
    },
    {
     "data": {
      "text/plain": [
       "0.4"
      ]
     },
     "execution_count": 48,
     "metadata": {},
     "output_type": "execute_result"
    }
   ],
   "source": [
    "my_square(2, a=0.1)"
   ]
  },
  {
   "cell_type": "code",
   "execution_count": 49,
   "id": "eb206de9",
   "metadata": {},
   "outputs": [],
   "source": [
    "from functools import wraps\n",
    "\n",
    "def trace(func):\n",
    "    \n",
    "    @wraps(func)\n",
    "    def wrapper(*args, **kwargs):\n",
    "        print(f\"{func.__name__} called with arguments {args}, {kwargs}\")\n",
    "        result = func(*args, **kwargs)\n",
    "        print(f\"{func.__name__} returns {result}\")\n",
    "        return result\n",
    "    return wrapper\n",
    "\n",
    "def time_me(func):\n",
    "    \n",
    "    @wraps(func)\n",
    "    def wrapper(*args, **kwargs):\n",
    "        t1 = time.time()\n",
    "        result = func(*args, **kwargs)\n",
    "        t2 = time.time()\n",
    "        print(f\"Time used in {func.__name__}\", t2-t1)\n",
    "        return result\n",
    "    return wrapper"
   ]
  },
  {
   "cell_type": "code",
   "execution_count": 50,
   "id": "0fc4a162",
   "metadata": {},
   "outputs": [],
   "source": [
    "@time_me\n",
    "@trace\n",
    "def my_square(x, a=1):\n",
    "    time.sleep(1)\n",
    "    return a*x**2"
   ]
  },
  {
   "cell_type": "code",
   "execution_count": 51,
   "id": "827a8676",
   "metadata": {},
   "outputs": [
    {
     "name": "stdout",
     "output_type": "stream",
     "text": [
      "my_square called with arguments (2,), {'a': 0.1}\n",
      "my_square returns 0.4\n",
      "Time used in my_square 1.0028369426727295\n"
     ]
    },
    {
     "data": {
      "text/plain": [
       "0.4"
      ]
     },
     "execution_count": 51,
     "metadata": {},
     "output_type": "execute_result"
    }
   ],
   "source": [
    "my_square(2, a=0.1)"
   ]
  },
  {
   "cell_type": "code",
   "execution_count": null,
   "id": "df49969d",
   "metadata": {},
   "outputs": [],
   "source": []
  }
 ],
 "metadata": {
  "kernelspec": {
   "display_name": "Python 3 (ipykernel)",
   "language": "python",
   "name": "python3"
  },
  "language_info": {
   "codemirror_mode": {
    "name": "ipython",
    "version": 3
   },
   "file_extension": ".py",
   "mimetype": "text/x-python",
   "name": "python",
   "nbconvert_exporter": "python",
   "pygments_lexer": "ipython3",
   "version": "3.11.0"
  }
 },
 "nbformat": 4,
 "nbformat_minor": 5
}
