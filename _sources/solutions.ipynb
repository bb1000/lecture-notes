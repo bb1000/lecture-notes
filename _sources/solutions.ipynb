{
 "cells": [
  {
   "cell_type": "markdown",
   "id": "a80efd64",
   "metadata": {},
   "source": [
    "# Lab: Command-line solutions\n",
    "\n",
    "## A\n",
    "\n",
    "To reproduce the file structure\n",
    "\n",
    "~~~\n",
    "└── MainFolder\n",
    "    ├── NewFolder\n",
    "    │   ├── introduction.txt\n",
    "    │   └── LastFolder\n",
    "    │       └── data.txt\n",
    "    ├── Readme.txt\n",
    "    └── SecondFolder\n",
    "~~~\n",
    "\n",
    "these are solutions without the editor at all, which contains redirection of output.\n",
    "\n",
    "~~~\n",
    "$ command > output.txt\n",
    "~~~\n",
    "means do not print the command output to the screen, instead *save* it in the file output.txt (overwrites if it already exists)\n",
    "\n",
    "~~~\n",
    "$ command >> output.txt\n",
    "~~~\n",
    "means do not print the command output to the screen, instead *append* it to the file output.txt (thus keeping old content)\n",
    "\n",
    "if output.txt is a non-existing file the effect of both is the same"
   ]
  },
  {
   "cell_type": "code",
   "execution_count": 84,
   "id": "4be7bb10",
   "metadata": {},
   "outputs": [],
   "source": [
    "%%bash\n",
    "rm -rf MainFolder\n",
    "mkdir MainFolder\n",
    "cd MainFolder\n",
    "mkdir NewFolder\n",
    "cd NewFolder\n",
    "pwd > introduction.txt\n",
    "echo introduction.txt >> introduction.txt\n",
    "mkdir LastFolder\n",
    "cd LastFolder\n",
    "pwd > data.txt\n",
    "echo data.txt >> data.txt\n",
    "cd ../..\n",
    "pwd > Readme.txt\n",
    "echo Readme.txt >> Readme.txt\n",
    "mkdir SecondFolder"
   ]
  },
  {
   "cell_type": "code",
   "execution_count": 85,
   "id": "dd06f4eb",
   "metadata": {},
   "outputs": [
    {
     "name": "stdout",
     "output_type": "stream",
     "text": [
      "\u001b[01;34mMainFolder\u001b[0m\r\n",
      "├── \u001b[01;34mNewFolder\u001b[0m\r\n",
      "│   ├── introduction.txt\r\n",
      "│   └── \u001b[01;34mLastFolder\u001b[0m\r\n",
      "│       └── data.txt\r\n",
      "├── Readme.txt\r\n",
      "└── \u001b[01;34mSecondFolder\u001b[0m\r\n",
      "\r\n",
      "3 directories, 3 files\r\n"
     ]
    }
   ],
   "source": [
    "!tree MainFolder"
   ]
  },
  {
   "cell_type": "code",
   "execution_count": 86,
   "id": "5ada6aa1",
   "metadata": {},
   "outputs": [
    {
     "name": "stdout",
     "output_type": "stream",
     "text": [
      "/home/python-lll/Documents/lecture-notes/MainFolder/NewFolder\r\n",
      "introduction.txt\r\n",
      "/home/python-lll/Documents/lecture-notes/MainFolder/NewFolder/LastFolder\r\n",
      "data.txt\r\n",
      "/home/python-lll/Documents/lecture-notes/MainFolder\r\n",
      "Readme.txt\r\n"
     ]
    }
   ],
   "source": [
    "!cat MainFolder/NewFolder/introduction.txt MainFolder/NewFolder/LastFolder/data.txt MainFolder/Readme.txt"
   ]
  },
  {
   "cell_type": "markdown",
   "id": "519ec821",
   "metadata": {},
   "source": [
    "## B\n",
    "\n",
    "How do we modify the existing structure such in order to obtain\n",
    "\n",
    "~~~\n",
    "└── MainFolder\n",
    "    ├── FirstFolder\n",
    "    │   ├── data.txt\n",
    "    │   └── introduction.txt\n",
    "    └── SecondFolder\n",
    "        └── Readme.txt\n",
    "~~~"
   ]
  },
  {
   "cell_type": "markdown",
   "id": "f5630060",
   "metadata": {},
   "source": [
    "* rename NewFolder to FirstFolder\n",
    "* the data.txt should be moved to  FirstFolder\n",
    "* LastFolder should be removed\n",
    "* move the Readme.txt to SecondFolsder"
   ]
  },
  {
   "cell_type": "code",
   "execution_count": 87,
   "id": "01059a56",
   "metadata": {},
   "outputs": [],
   "source": [
    "%%bash\n",
    "cd MainFolder\n",
    "mv NewFolder FirstFolder\n",
    "cd FirstFolder/LastFolder\n",
    "mv data.txt ..\n",
    "cd ..\n",
    "rmdir LastFolder\n",
    "cd ..\n",
    "mv Readme.txt SecondFolder\n",
    "cd .."
   ]
  },
  {
   "cell_type": "code",
   "execution_count": 88,
   "id": "f73e73b0",
   "metadata": {},
   "outputs": [
    {
     "name": "stdout",
     "output_type": "stream",
     "text": [
      "\u001b[01;34mMainFolder\u001b[0m\r\n",
      "├── \u001b[01;34mFirstFolder\u001b[0m\r\n",
      "│   ├── data.txt\r\n",
      "│   └── introduction.txt\r\n",
      "└── \u001b[01;34mSecondFolder\u001b[0m\r\n",
      "    └── Readme.txt\r\n",
      "\r\n",
      "2 directories, 3 files\r\n"
     ]
    }
   ],
   "source": [
    "!tree MainFolder"
   ]
  },
  {
   "cell_type": "markdown",
   "id": "e601d342",
   "metadata": {},
   "source": []
  },
  {
   "cell_type": "markdown",
   "id": "085620bb",
   "metadata": {},
   "source": [
    "Finally edit the files to match the new locations"
   ]
  }
 ],
 "metadata": {
  "kernelspec": {
   "display_name": "Python 3 (ipykernel)",
   "language": "python",
   "name": "python3"
  },
  "language_info": {
   "codemirror_mode": {
    "name": "ipython",
    "version": 3
   },
   "file_extension": ".py",
   "mimetype": "text/x-python",
   "name": "python",
   "nbconvert_exporter": "python",
   "pygments_lexer": "ipython3",
   "version": "3.11.0"
  }
 },
 "nbformat": 4,
 "nbformat_minor": 5
}
