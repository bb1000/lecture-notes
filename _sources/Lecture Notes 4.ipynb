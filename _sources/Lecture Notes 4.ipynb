{
 "cells": [
  {
   "cell_type": "markdown",
   "id": "c5b2116a",
   "metadata": {},
   "source": [
    "# Lecture notes 4\n",
    "\n",
    "## Sample exercises\n",
    "\n",
    "### Assignment\n",
    "\n",
    "Assignment exercise with test. Testing is based on the `assert` statement which verifies that an expression is true and report an error when it is false."
   ]
  },
  {
   "cell_type": "code",
   "execution_count": 52,
   "id": "2408e0b6",
   "metadata": {},
   "outputs": [],
   "source": [
    "assert True, \"Something is wrong\""
   ]
  },
  {
   "cell_type": "code",
   "execution_count": 53,
   "id": "b2b8137e",
   "metadata": {},
   "outputs": [
    {
     "ename": "AssertionError",
     "evalue": "Something is wrong",
     "output_type": "error",
     "traceback": [
      "\u001b[0;31m---------------------------------------------------------------------------\u001b[0m",
      "\u001b[0;31mAssertionError\u001b[0m                            Traceback (most recent call last)",
      "Cell \u001b[0;32mIn[53], line 1\u001b[0m\n\u001b[0;32m----> 1\u001b[0m \u001b[38;5;28;01massert\u001b[39;00m \u001b[38;5;28;01mFalse\u001b[39;00m, \u001b[38;5;124m\"\u001b[39m\u001b[38;5;124mSomething is wrong\u001b[39m\u001b[38;5;124m\"\u001b[39m\n",
      "\u001b[0;31mAssertionError\u001b[0m: Something is wrong"
     ]
    }
   ],
   "source": [
    "assert False, \"Something is wrong\""
   ]
  },
  {
   "cell_type": "markdown",
   "id": "46e6045d",
   "metadata": {},
   "source": [
    "Assignment `=` vs comparison `==`"
   ]
  },
  {
   "cell_type": "code",
   "execution_count": 1,
   "id": "1a100d5f",
   "metadata": {},
   "outputs": [],
   "source": [
    "bobs_age = 86"
   ]
  },
  {
   "cell_type": "code",
   "execution_count": 6,
   "id": "da1cfb85",
   "metadata": {},
   "outputs": [],
   "source": [
    "assert bobs_age == 86"
   ]
  },
  {
   "cell_type": "markdown",
   "id": "f218945f",
   "metadata": {},
   "source": [
    "### f-strings\n",
    "\n",
    "substituting values into strings. The print function combines any number of arguments to a single string which is displayed on the screen"
   ]
  },
  {
   "cell_type": "code",
   "execution_count": 9,
   "id": "f7766b69",
   "metadata": {},
   "outputs": [
    {
     "name": "stdout",
     "output_type": "stream",
     "text": [
      "Bob is 86 years old.\n"
     ]
    }
   ],
   "source": [
    "print(\"Bob is\", bobs_age, \"years old.\")"
   ]
  },
  {
   "cell_type": "markdown",
   "id": "3ce0a80a",
   "metadata": {},
   "source": [
    "To substite part of a string with a value, curly braces are used as a placeholder. This does not quite do it"
   ]
  },
  {
   "cell_type": "code",
   "execution_count": 10,
   "id": "1598c0c3",
   "metadata": {},
   "outputs": [
    {
     "data": {
      "text/plain": [
       "'Bob is {bobs_age} old.'"
      ]
     },
     "execution_count": 10,
     "metadata": {},
     "output_type": "execute_result"
    }
   ],
   "source": [
    "\"Bob is {bobs_age} old.\""
   ]
  },
  {
   "cell_type": "markdown",
   "id": "f04f8d2f",
   "metadata": {},
   "source": [
    "But with a leading `f` before the opening quotation mark we have the compact form, for substiting the value of `bobs_age` into a string"
   ]
  },
  {
   "cell_type": "code",
   "execution_count": 59,
   "id": "10e7fecd",
   "metadata": {},
   "outputs": [
    {
     "data": {
      "text/plain": [
       "'Bob is 86 old.'"
      ]
     },
     "execution_count": 59,
     "metadata": {},
     "output_type": "execute_result"
    }
   ],
   "source": [
    "f\"Bob is {bobs_age} old.\""
   ]
  },
  {
   "cell_type": "markdown",
   "id": "e10a56ef",
   "metadata": {},
   "source": [
    "Special use of fstring, useful in debugging where we often like to print"
   ]
  },
  {
   "cell_type": "code",
   "execution_count": 60,
   "id": "93dfb026",
   "metadata": {},
   "outputs": [
    {
     "name": "stdout",
     "output_type": "stream",
     "text": [
      "bobs_age=86\n"
     ]
    }
   ],
   "source": [
    "print(f'bobs_age={bobs_age}')"
   ]
  },
  {
   "cell_type": "markdown",
   "id": "67692488",
   "metadata": {},
   "source": [
    "has the alternative form"
   ]
  },
  {
   "cell_type": "code",
   "execution_count": 61,
   "id": "77f3d5af",
   "metadata": {},
   "outputs": [
    {
     "name": "stdout",
     "output_type": "stream",
     "text": [
      "bobs_age=86\n"
     ]
    }
   ],
   "source": [
    "print(f'{bobs_age=}')"
   ]
  },
  {
   "cell_type": "markdown",
   "id": "9dd92d16",
   "metadata": {},
   "source": [
    "### Exercise: if statement"
   ]
  },
  {
   "cell_type": "code",
   "execution_count": 62,
   "id": "1d22d480",
   "metadata": {},
   "outputs": [],
   "source": [
    "MIN_DRIVING_AGE = 18\n",
    "\n",
    "\n",
    "def allowed_driving(name, age):\n",
    "    \"\"\"Print '{name} is allowed to drive' or '{name} is not allowed to drive'\n",
    "       checking the passed in age against the MIN_DRIVING_AGE constant\"\"\"\n",
    "    if age >= MIN_DRIVING_AGE:\n",
    "        print(f'{name} is allowed to drive')\n",
    "    else:\n",
    "        print(f'{name} is not allowed to drive')"
   ]
  },
  {
   "cell_type": "code",
   "execution_count": 17,
   "id": "7313e7bf",
   "metadata": {},
   "outputs": [
    {
     "name": "stdout",
     "output_type": "stream",
     "text": [
      "John is not allowed to drive\n"
     ]
    }
   ],
   "source": [
    "allowed_driving('John', 17)"
   ]
  },
  {
   "cell_type": "code",
   "execution_count": 18,
   "id": "5d3a9433",
   "metadata": {},
   "outputs": [
    {
     "name": "stdout",
     "output_type": "stream",
     "text": [
      "Jane is allowed to drive\n"
     ]
    }
   ],
   "source": [
    "allowed_driving('Jane', 19)"
   ]
  },
  {
   "cell_type": "code",
   "execution_count": 64,
   "id": "57902b1f",
   "metadata": {},
   "outputs": [
    {
     "ename": "NameError",
     "evalue": "name 'age' is not defined",
     "output_type": "error",
     "traceback": [
      "\u001b[0;31m---------------------------------------------------------------------------\u001b[0m",
      "\u001b[0;31mNameError\u001b[0m                                 Traceback (most recent call last)",
      "Cell \u001b[0;32mIn[64], line 1\u001b[0m\n\u001b[0;32m----> 1\u001b[0m \u001b[38;5;28mprint\u001b[39m(age)\n",
      "\u001b[0;31mNameError\u001b[0m: name 'age' is not defined"
     ]
    }
   ],
   "source": [
    "print(age)  # note that age is local to the function allowed_driving, it is not defined outside the function"
   ]
  },
  {
   "cell_type": "markdown",
   "id": "f1d94c35",
   "metadata": {},
   "source": [
    "### Exercise: Looping (repetition)"
   ]
  },
  {
   "cell_type": "markdown",
   "id": "6fa93060",
   "metadata": {},
   "source": [
    "Consider"
   ]
  },
  {
   "cell_type": "code",
   "execution_count": 65,
   "id": "4b5c7783",
   "metadata": {},
   "outputs": [
    {
     "name": "stdout",
     "output_type": "stream",
     "text": [
      "1\n",
      "2\n",
      "3\n"
     ]
    }
   ],
   "source": [
    "print(1)\n",
    "print(2)\n",
    "print(3)"
   ]
  },
  {
   "cell_type": "markdown",
   "id": "b8c7fa18",
   "metadata": {},
   "source": [
    "this is repetition with a little variation. If we assign the varying value to a variable, the print statements are identiccal"
   ]
  },
  {
   "cell_type": "code",
   "execution_count": 21,
   "id": "c9764c28",
   "metadata": {},
   "outputs": [
    {
     "name": "stdout",
     "output_type": "stream",
     "text": [
      "1\n",
      "2\n",
      "3\n"
     ]
    }
   ],
   "source": [
    "e = 1\n",
    "print(e)\n",
    "e = 2\n",
    "print(e)\n",
    "e = 3\n",
    "print(e)"
   ]
  },
  {
   "cell_type": "markdown",
   "id": "5e4448d6",
   "metadata": {},
   "source": [
    "This is effectively how for loops work"
   ]
  },
  {
   "cell_type": "code",
   "execution_count": 66,
   "id": "ffa4d4b7",
   "metadata": {},
   "outputs": [
    {
     "name": "stdout",
     "output_type": "stream",
     "text": [
      "1\n",
      "2\n",
      "3\n"
     ]
    }
   ],
   "source": [
    "for e in [1, 2, 3]:\n",
    "    print(e)"
   ]
  },
  {
   "cell_type": "code",
   "execution_count": 45,
   "id": "5f0e3e6f",
   "metadata": {},
   "outputs": [],
   "source": [
    "NAMES = ['arnold schwarzenegger', 'alec baldwin', 'bob belderbos',\n",
    "         'julian sequeira', 'sandra bullock', 'keanu reeves',\n",
    "         'julbob pybites', 'bob belderbos', 'julian sequeira',\n",
    "         'al pacino', 'brad pitt', 'matt damon', 'brad pitt']\n",
    "\n",
    "\n",
    "def dedup_and_title_case_names(names):\n",
    "    \"\"\"Should return a list of title cased names,\n",
    "       each name appears only once\"\"\"\n",
    "    unique_names = []\n",
    "    for name in names:\n",
    "        name = name.title()\n",
    "        #print(name, unique_names)\n",
    "        if name in unique_names:\n",
    "            pass\n",
    "        else:\n",
    "            unique_names.append(name)\n",
    "    return unique_names\n",
    "\n",
    "\n",
    "def sort_by_surname_desc(names):\n",
    "    \"\"\"Returns names list sorted desc by surname\"\"\"\n",
    "    names = dedup_and_title_case_names(names)\n",
    "    # ...\n",
    "\n",
    "\n",
    "def shortest_first_name(names):\n",
    "    \"\"\"Returns the shortest first name (str).\n",
    "       You can assume there is only one shortest name.\n",
    "    \"\"\"\n",
    "    names = dedup_and_title_case_names(names)\n",
    "    # ..."
   ]
  },
  {
   "cell_type": "code",
   "execution_count": 46,
   "id": "69f08279",
   "metadata": {
    "scrolled": true
   },
   "outputs": [
    {
     "data": {
      "text/plain": [
       "['Arnold Schwarzenegger',\n",
       " 'Alec Baldwin',\n",
       " 'Bob Belderbos',\n",
       " 'Julian Sequeira',\n",
       " 'Sandra Bullock',\n",
       " 'Keanu Reeves',\n",
       " 'Julbob Pybites',\n",
       " 'Al Pacino',\n",
       " 'Brad Pitt',\n",
       " 'Matt Damon']"
      ]
     },
     "execution_count": 46,
     "metadata": {},
     "output_type": "execute_result"
    }
   ],
   "source": [
    "dedup_and_title_case_names(NAMES)"
   ]
  },
  {
   "cell_type": "code",
   "execution_count": 48,
   "id": "97eedfd0",
   "metadata": {},
   "outputs": [],
   "source": [
    "def test_dedup_and_title_case_names():\n",
    "    names = dedup_and_title_case_names(NAMES)\n",
    "    assert names.count('Bob Belderbos') == 1\n",
    "    assert names.count('julian sequeira') == 0\n",
    "    assert names.count('Brad Pitt') == 1\n",
    "    assert len(names) == 10\n",
    "    assert all(n.title() in names for n in NAMES)\n",
    "test_dedup_and_title_case_names()"
   ]
  },
  {
   "cell_type": "markdown",
   "id": "86595741",
   "metadata": {},
   "source": [
    "What methods are defined for strings?"
   ]
  },
  {
   "cell_type": "code",
   "execution_count": 30,
   "id": "57484ef9",
   "metadata": {},
   "outputs": [
    {
     "data": {
      "text/plain": [
       "['__add__',\n",
       " '__class__',\n",
       " '__contains__',\n",
       " '__delattr__',\n",
       " '__dir__',\n",
       " '__doc__',\n",
       " '__eq__',\n",
       " '__format__',\n",
       " '__ge__',\n",
       " '__getattribute__',\n",
       " '__getitem__',\n",
       " '__getnewargs__',\n",
       " '__getstate__',\n",
       " '__gt__',\n",
       " '__hash__',\n",
       " '__init__',\n",
       " '__init_subclass__',\n",
       " '__iter__',\n",
       " '__le__',\n",
       " '__len__',\n",
       " '__lt__',\n",
       " '__mod__',\n",
       " '__mul__',\n",
       " '__ne__',\n",
       " '__new__',\n",
       " '__reduce__',\n",
       " '__reduce_ex__',\n",
       " '__repr__',\n",
       " '__rmod__',\n",
       " '__rmul__',\n",
       " '__setattr__',\n",
       " '__sizeof__',\n",
       " '__str__',\n",
       " '__subclasshook__',\n",
       " 'capitalize',\n",
       " 'casefold',\n",
       " 'center',\n",
       " 'count',\n",
       " 'encode',\n",
       " 'endswith',\n",
       " 'expandtabs',\n",
       " 'find',\n",
       " 'format',\n",
       " 'format_map',\n",
       " 'index',\n",
       " 'isalnum',\n",
       " 'isalpha',\n",
       " 'isascii',\n",
       " 'isdecimal',\n",
       " 'isdigit',\n",
       " 'isidentifier',\n",
       " 'islower',\n",
       " 'isnumeric',\n",
       " 'isprintable',\n",
       " 'isspace',\n",
       " 'istitle',\n",
       " 'isupper',\n",
       " 'join',\n",
       " 'ljust',\n",
       " 'lower',\n",
       " 'lstrip',\n",
       " 'maketrans',\n",
       " 'partition',\n",
       " 'removeprefix',\n",
       " 'removesuffix',\n",
       " 'replace',\n",
       " 'rfind',\n",
       " 'rindex',\n",
       " 'rjust',\n",
       " 'rpartition',\n",
       " 'rsplit',\n",
       " 'rstrip',\n",
       " 'split',\n",
       " 'splitlines',\n",
       " 'startswith',\n",
       " 'strip',\n",
       " 'swapcase',\n",
       " 'title',\n",
       " 'translate',\n",
       " 'upper',\n",
       " 'zfill']"
      ]
     },
     "execution_count": 30,
     "metadata": {},
     "output_type": "execute_result"
    }
   ],
   "source": [
    "dir(\"\")"
   ]
  },
  {
   "cell_type": "markdown",
   "id": "a708ec46",
   "metadata": {},
   "source": [
    "How about lists?"
   ]
  },
  {
   "cell_type": "code",
   "execution_count": 31,
   "id": "67113585",
   "metadata": {},
   "outputs": [
    {
     "data": {
      "text/plain": [
       "['__add__',\n",
       " '__class__',\n",
       " '__class_getitem__',\n",
       " '__contains__',\n",
       " '__delattr__',\n",
       " '__delitem__',\n",
       " '__dir__',\n",
       " '__doc__',\n",
       " '__eq__',\n",
       " '__format__',\n",
       " '__ge__',\n",
       " '__getattribute__',\n",
       " '__getitem__',\n",
       " '__getstate__',\n",
       " '__gt__',\n",
       " '__hash__',\n",
       " '__iadd__',\n",
       " '__imul__',\n",
       " '__init__',\n",
       " '__init_subclass__',\n",
       " '__iter__',\n",
       " '__le__',\n",
       " '__len__',\n",
       " '__lt__',\n",
       " '__mul__',\n",
       " '__ne__',\n",
       " '__new__',\n",
       " '__reduce__',\n",
       " '__reduce_ex__',\n",
       " '__repr__',\n",
       " '__reversed__',\n",
       " '__rmul__',\n",
       " '__setattr__',\n",
       " '__setitem__',\n",
       " '__sizeof__',\n",
       " '__str__',\n",
       " '__subclasshook__',\n",
       " 'append',\n",
       " 'clear',\n",
       " 'copy',\n",
       " 'count',\n",
       " 'extend',\n",
       " 'index',\n",
       " 'insert',\n",
       " 'pop',\n",
       " 'remove',\n",
       " 'reverse',\n",
       " 'sort']"
      ]
     },
     "execution_count": 31,
     "metadata": {},
     "output_type": "execute_result"
    }
   ],
   "source": [
    "dir([])"
   ]
  },
  {
   "cell_type": "code",
   "execution_count": 32,
   "id": "ca75b7b2",
   "metadata": {},
   "outputs": [
    {
     "name": "stdout",
     "output_type": "stream",
     "text": [
      "Help on built-in function append:\n",
      "\n",
      "append(object, /) method of builtins.list instance\n",
      "    Append object to the end of the list.\n",
      "\n"
     ]
    }
   ],
   "source": [
    "help([].append)"
   ]
  },
  {
   "cell_type": "code",
   "execution_count": 33,
   "id": "e14cedb7",
   "metadata": {},
   "outputs": [],
   "source": [
    "mylist = []\n",
    "mylist.append('Joe')"
   ]
  },
  {
   "cell_type": "code",
   "execution_count": 34,
   "id": "dc6f65b3",
   "metadata": {},
   "outputs": [
    {
     "data": {
      "text/plain": [
       "['Joe']"
      ]
     },
     "execution_count": 34,
     "metadata": {},
     "output_type": "execute_result"
    }
   ],
   "source": [
    "mylist"
   ]
  },
  {
   "cell_type": "code",
   "execution_count": null,
   "id": "d405c2bb",
   "metadata": {},
   "outputs": [],
   "source": []
  }
 ],
 "metadata": {
  "kernelspec": {
   "display_name": "Python 3 (ipykernel)",
   "language": "python",
   "name": "python3"
  },
  "language_info": {
   "codemirror_mode": {
    "name": "ipython",
    "version": 3
   },
   "file_extension": ".py",
   "mimetype": "text/x-python",
   "name": "python",
   "nbconvert_exporter": "python",
   "pygments_lexer": "ipython3",
   "version": "3.11.0"
  }
 },
 "nbformat": 4,
 "nbformat_minor": 5
}
