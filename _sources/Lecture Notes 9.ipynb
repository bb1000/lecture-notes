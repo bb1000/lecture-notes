{
 "cells": [
  {
   "cell_type": "markdown",
   "id": "954428e2",
   "metadata": {},
   "source": [
    "# Lecture Notes 9\n",
    "\n",
    "## Working with files"
   ]
  },
  {
   "cell_type": "code",
   "execution_count": 1,
   "id": "e42ee1d0",
   "metadata": {},
   "outputs": [],
   "source": [
    "# !mv ../../Downloads/HistoricalData_1683036550517.csv apple.csv\n"
   ]
  },
  {
   "cell_type": "code",
   "execution_count": 2,
   "id": "2728e6d3",
   "metadata": {},
   "outputs": [
    {
     "name": "stdout",
     "output_type": "stream",
     "text": [
      "Date,Close/Last,Volume,Open,High,Low\r",
      "\r\n",
      "05/01/2023,$169.59,52472940,$169.28,$170.45,$168.64\r",
      "\r\n",
      "04/28/2023,$169.68,55275850,$168.49,$169.85,$167.8801\r",
      "\r\n",
      "04/27/2023,$168.41,64902330,$165.19,$168.56,$165.19\r",
      "\r\n",
      "04/26/2023,$163.76,45498800,$163.055,$165.28,$162.80\r",
      "\r\n",
      "04/25/2023,$163.77,48714060,$165.19,$166.305,$163.73\r",
      "\r\n",
      "04/24/2023,$165.33,41949580,$165.00,$165.60,$163.89\r",
      "\r\n",
      "04/21/2023,$165.02,58337340,$165.05,$166.4521,$164.49\r",
      "\r\n",
      "04/20/2023,$166.65,52456380,$166.09,$167.87,$165.56\r",
      "\r\n",
      "04/19/2023,$167.63,47720170,$165.80,$168.16,$165.54\r",
      "\r\n"
     ]
    }
   ],
   "source": [
    "!head apple.csv"
   ]
  },
  {
   "cell_type": "code",
   "execution_count": 6,
   "id": "63c3f0a5",
   "metadata": {},
   "outputs": [],
   "source": [
    "file = open('apple.csv')"
   ]
  },
  {
   "cell_type": "code",
   "execution_count": 7,
   "id": "733e4163",
   "metadata": {},
   "outputs": [
    {
     "data": {
      "text/plain": [
       "_io.TextIOWrapper"
      ]
     },
     "execution_count": 7,
     "metadata": {},
     "output_type": "execute_result"
    }
   ],
   "source": [
    "type(file) # what Python calls a file type"
   ]
  },
  {
   "cell_type": "code",
   "execution_count": 8,
   "id": "397d31df",
   "metadata": {},
   "outputs": [
    {
     "data": {
      "text/plain": [
       "['_CHUNK_SIZE',\n",
       " '__class__',\n",
       " '__del__',\n",
       " '__delattr__',\n",
       " '__dict__',\n",
       " '__dir__',\n",
       " '__doc__',\n",
       " '__enter__',\n",
       " '__eq__',\n",
       " '__exit__',\n",
       " '__format__',\n",
       " '__ge__',\n",
       " '__getattribute__',\n",
       " '__getstate__',\n",
       " '__gt__',\n",
       " '__hash__',\n",
       " '__init__',\n",
       " '__init_subclass__',\n",
       " '__iter__',\n",
       " '__le__',\n",
       " '__lt__',\n",
       " '__ne__',\n",
       " '__new__',\n",
       " '__next__',\n",
       " '__reduce__',\n",
       " '__reduce_ex__',\n",
       " '__repr__',\n",
       " '__setattr__',\n",
       " '__sizeof__',\n",
       " '__str__',\n",
       " '__subclasshook__',\n",
       " '_checkClosed',\n",
       " '_checkReadable',\n",
       " '_checkSeekable',\n",
       " '_checkWritable',\n",
       " '_finalizing',\n",
       " 'buffer',\n",
       " 'close',\n",
       " 'closed',\n",
       " 'detach',\n",
       " 'encoding',\n",
       " 'errors',\n",
       " 'fileno',\n",
       " 'flush',\n",
       " 'isatty',\n",
       " 'line_buffering',\n",
       " 'mode',\n",
       " 'name',\n",
       " 'newlines',\n",
       " 'read',\n",
       " 'readable',\n",
       " 'readline',\n",
       " 'readlines',\n",
       " 'reconfigure',\n",
       " 'seek',\n",
       " 'seekable',\n",
       " 'tell',\n",
       " 'truncate',\n",
       " 'writable',\n",
       " 'write',\n",
       " 'write_through',\n",
       " 'writelines']"
      ]
     },
     "execution_count": 8,
     "metadata": {},
     "output_type": "execute_result"
    }
   ],
   "source": [
    "dir(file)"
   ]
  },
  {
   "cell_type": "code",
   "execution_count": 4,
   "id": "2e9eb5d4",
   "metadata": {},
   "outputs": [
    {
     "data": {
      "text/plain": [
       "'Date,Close/Last,Volume,Open,High,Low\\n05/01/2023,$169.59,52472940,$169.28,$170.45,$168.64\\n04/28/2023,'"
      ]
     },
     "execution_count": 4,
     "metadata": {},
     "output_type": "execute_result"
    }
   ],
   "source": [
    "# read the content of the whole file to a string\n",
    "file = open('apple.csv')\n",
    "file.read()[:100]"
   ]
  },
  {
   "cell_type": "code",
   "execution_count": 5,
   "id": "4a4ae744",
   "metadata": {},
   "outputs": [
    {
     "data": {
      "text/plain": [
       "''"
      ]
     },
     "execution_count": 5,
     "metadata": {},
     "output_type": "execute_result"
    }
   ],
   "source": [
    "file.read() #already at end of file, return empty string"
   ]
  },
  {
   "cell_type": "code",
   "execution_count": 6,
   "id": "fc882766",
   "metadata": {},
   "outputs": [
    {
     "data": {
      "text/plain": [
       "0"
      ]
     },
     "execution_count": 6,
     "metadata": {},
     "output_type": "execute_result"
    }
   ],
   "source": [
    "file.seek(0) #position the file in the beginning"
   ]
  },
  {
   "cell_type": "code",
   "execution_count": 7,
   "id": "7cd676c2",
   "metadata": {},
   "outputs": [
    {
     "data": {
      "text/plain": [
       "['Date,Close/Last,Volume,Open,High,Low\\n',\n",
       " '05/01/2023,$169.59,52472940,$169.28,$170.45,$168.64\\n',\n",
       " '04/28/2023,$169.68,55275850,$168.49,$169.85,$167.8801\\n',\n",
       " '04/27/2023,$168.41,64902330,$165.19,$168.56,$165.19\\n',\n",
       " '04/26/2023,$163.76,45498800,$163.055,$165.28,$162.80\\n',\n",
       " '04/25/2023,$163.77,48714060,$165.19,$166.305,$163.73\\n',\n",
       " '04/24/2023,$165.33,41949580,$165.00,$165.60,$163.89\\n',\n",
       " '04/21/2023,$165.02,58337340,$165.05,$166.4521,$164.49\\n',\n",
       " '04/20/2023,$166.65,52456380,$166.09,$167.87,$165.56\\n',\n",
       " '04/19/2023,$167.63,47720170,$165.80,$168.16,$165.54\\n']"
      ]
     },
     "execution_count": 7,
     "metadata": {},
     "output_type": "execute_result"
    }
   ],
   "source": [
    "file.readlines()[:10] # a list of lines"
   ]
  },
  {
   "cell_type": "code",
   "execution_count": 8,
   "id": "1cb47828",
   "metadata": {},
   "outputs": [
    {
     "data": {
      "text/plain": [
       "'Date,Close/Last,Volume,Open,High,Low\\n'"
      ]
     },
     "execution_count": 8,
     "metadata": {},
     "output_type": "execute_result"
    }
   ],
   "source": [
    "file.seek(0)    # again, start from the beginning\n",
    "file.readline() # read one line at the time, first the header"
   ]
  },
  {
   "cell_type": "code",
   "execution_count": 9,
   "id": "81ebe14f",
   "metadata": {},
   "outputs": [
    {
     "data": {
      "text/plain": [
       "'05/01/2023,$169.59,52472940,$169.28,$170.45,$168.64\\n'"
      ]
     },
     "execution_count": 9,
     "metadata": {},
     "output_type": "execute_result"
    }
   ],
   "source": [
    "file.readline() # then the first data line"
   ]
  },
  {
   "cell_type": "code",
   "execution_count": 10,
   "id": "101ac8ba",
   "metadata": {},
   "outputs": [
    {
     "data": {
      "text/plain": [
       "'04/28/2023,$169.68,55275850,$168.49,$169.85,$167.8801\\n'"
      ]
     },
     "execution_count": 10,
     "metadata": {},
     "output_type": "execute_result"
    }
   ],
   "source": [
    "file.readline()  # then the second data line"
   ]
  },
  {
   "cell_type": "markdown",
   "id": "f694c843",
   "metadata": {},
   "source": [
    "Consider a script where we\n",
    "\n",
    "* read all lines with  prices on a given transaction day\n",
    "* at the end of the day we buy $1 worth of shares (assuming that is possible)\n",
    "* sum up the total share values\n",
    "* at the end calculate the total dollar value of the accumulated shares on the final day"
   ]
  },
  {
   "cell_type": "code",
   "execution_count": 11,
   "id": "6d0e8c7e",
   "metadata": {},
   "outputs": [
    {
     "name": "stdout",
     "output_type": "stream",
     "text": [
      "Total shares 63.04476565302408\n",
      "Final closing price 169.59\n",
      "Final value 10691.76\n",
      "Total invested: 2517\n"
     ]
    }
   ],
   "source": [
    "total_shares = 0\n",
    "for i, line in enumerate(open('apple.csv')):\n",
    "    #if line[:4] == 'Date':\n",
    "    #   continue\n",
    "    if i == 0:\n",
    "        continue\n",
    "    _\n",
    "    #print(line)\n",
    "    fields = line.split(',')\n",
    "    #print(fields)\n",
    "    closing = fields[1] # second element in list\n",
    "    #print(closing)\n",
    "    closing = closing[1:]  # skip the first characgter\n",
    "    #print(closing)\n",
    "    closing = float(closing)\n",
    "    #print(closing)\n",
    "    if i == 1:\n",
    "        final_closing = closing\n",
    "    total_shares += 1/closing  # number of shares that one dollar buys\n",
    "    \n",
    "print(\"Total shares\", total_shares)\n",
    "print(\"Final closing price\", final_closing)\n",
    "print(\"Final value\", round(total_shares*final_closing, 2))\n",
    "print(\"Total invested:\", i)\n",
    "    \n",
    "    "
   ]
  },
  {
   "cell_type": "markdown",
   "id": "20c78c98",
   "metadata": {},
   "source": [
    "## csv library\n",
    "\n",
    "As the processing of csv (comma separated value) files is such a common problem, specialized libraries for this have been developed and is part of the standard library"
   ]
  },
  {
   "cell_type": "code",
   "execution_count": 12,
   "id": "a1d9dcdb",
   "metadata": {},
   "outputs": [],
   "source": [
    "import csv"
   ]
  },
  {
   "cell_type": "code",
   "execution_count": 13,
   "id": "6714ea0c",
   "metadata": {},
   "outputs": [
    {
     "data": {
      "text/plain": [
       "['Dialect',\n",
       " 'DictReader',\n",
       " 'DictWriter',\n",
       " 'Error',\n",
       " 'QUOTE_ALL',\n",
       " 'QUOTE_MINIMAL',\n",
       " 'QUOTE_NONE',\n",
       " 'QUOTE_NONNUMERIC',\n",
       " 'Sniffer',\n",
       " 'StringIO',\n",
       " '_Dialect',\n",
       " '__all__',\n",
       " '__builtins__',\n",
       " '__cached__',\n",
       " '__doc__',\n",
       " '__file__',\n",
       " '__loader__',\n",
       " '__name__',\n",
       " '__package__',\n",
       " '__spec__',\n",
       " '__version__',\n",
       " 'excel',\n",
       " 'excel_tab',\n",
       " 'field_size_limit',\n",
       " 'get_dialect',\n",
       " 'list_dialects',\n",
       " 're',\n",
       " 'reader',\n",
       " 'register_dialect',\n",
       " 'unix_dialect',\n",
       " 'unregister_dialect',\n",
       " 'writer']"
      ]
     },
     "execution_count": 13,
     "metadata": {},
     "output_type": "execute_result"
    }
   ],
   "source": [
    "dir(csv)"
   ]
  },
  {
   "cell_type": "markdown",
   "id": "c9b9d830",
   "metadata": {},
   "source": [
    "Here we use the `DictReader` function which maps the data lines in the file to dictionaries with the headers as keys.\n",
    "\n",
    "To examine the first data item in the loop (and then stop) we may put in the `break` statement"
   ]
  },
  {
   "cell_type": "code",
   "execution_count": 14,
   "id": "660d6517",
   "metadata": {},
   "outputs": [
    {
     "name": "stdout",
     "output_type": "stream",
     "text": [
      "{'Date': '05/01/2023', 'Close/Last': '$169.59', 'Volume': '52472940', 'Open': '$169.28', 'High': '$170.45', 'Low': '$168.64'}\n"
     ]
    }
   ],
   "source": [
    "for data in csv.DictReader(open('apple.csv')):\n",
    "    print(data)\n",
    "    break\n"
   ]
  },
  {
   "cell_type": "markdown",
   "id": "ebcc9bcf",
   "metadata": {},
   "source": [
    "A modification of the previous problem is now"
   ]
  },
  {
   "cell_type": "code",
   "execution_count": 15,
   "id": "8953fbd1",
   "metadata": {},
   "outputs": [
    {
     "name": "stdout",
     "output_type": "stream",
     "text": [
      "Total shares 63.04476565302408\n",
      "Final closing price 169.59\n",
      "Final value 10691.76\n",
      "Total invested: 2517\n"
     ]
    }
   ],
   "source": [
    "total_shares = 0\n",
    "for i, data in enumerate(csv.DictReader(open('apple.csv')), start=1):\n",
    "    # print(data)\n",
    "    total_shares += 1/float(data['Close/Last'][1:])\n",
    "    \n",
    "print(\"Total shares\", total_shares)\n",
    "print(\"Final closing price\", final_closing)\n",
    "print(\"Final value\", round(total_shares*final_closing, 2))\n",
    "print(\"Total invested:\", i)"
   ]
  },
  {
   "cell_type": "markdown",
   "id": "c10d19c6",
   "metadata": {},
   "source": [
    "Here we note that\n",
    "\n",
    "* `enumerate` can be used if we need access to a loop counter as well as the data - we now have two loop variables `i, data`\n",
    "* the `start=1` option to enumerate means we start counting from one (rather than zero)"
   ]
  },
  {
   "cell_type": "markdown",
   "id": "27453858",
   "metadata": {},
   "source": [
    "Moving code to a file\n"
   ]
  },
  {
   "cell_type": "code",
   "execution_count": 17,
   "id": "940ea6c4",
   "metadata": {},
   "outputs": [
    {
     "name": "stdout",
     "output_type": "stream",
     "text": [
      "Writing stocks.py\n"
     ]
    }
   ],
   "source": [
    "%%file stocks.py\n",
    "import csv\n",
    "import sys\n",
    "\n",
    "stock_data = sys.argv[1]\n",
    "\n",
    "total_shares = 0\n",
    "for i, data in enumerate(csv.DictReader(open(stock_data)), start=1):\n",
    "    # print(data)\n",
    "    closing_price = float(data['Close/Last'][1:])\n",
    "    total_shares += 1/closing_price\n",
    "    if i == 1:\n",
    "        final_closing = closing_price\n",
    "    \n",
    "print(\"Total shares\", total_shares)\n",
    "print(\"Final closing price\", final_closing)\n",
    "print(\"Final value\", round(total_shares*final_closing, 2))\n",
    "print(\"Total invested:\", i)\n",
    "\n",
    "result_file = stock_data.replace('csv', 'results')\n",
    "f = open(result_file, mode='w')\n",
    "f.write(f\"Total shares {total_shares}\\n\")\n",
    "f.write(f\"Final value {round(total_shares*final_closing, 2)}\\n\")"
   ]
  },
  {
   "cell_type": "markdown",
   "id": "4aa821c7",
   "metadata": {},
   "source": [
    "gives us a script locally for passing a csv file as an argunent and which saves result to a new file"
   ]
  },
  {
   "cell_type": "code",
   "execution_count": 18,
   "id": "21b8f6ef",
   "metadata": {},
   "outputs": [
    {
     "name": "stdout",
     "output_type": "stream",
     "text": [
      "Total shares 63.04476565302408\r\n",
      "Final closing price 169.59\r\n",
      "Final value 10691.76\r\n",
      "Total invested: 2517\r\n"
     ]
    }
   ],
   "source": [
    "!python stocks.py apple.csv"
   ]
  },
  {
   "cell_type": "markdown",
   "id": "57fadb64",
   "metadata": {},
   "source": [
    "~~~\n",
    "$ cat apple.results\n",
    "Total shares 63.04476565302408\n",
    "Final value 10691.76\n",
    "~~~"
   ]
  },
  {
   "cell_type": "code",
   "execution_count": 26,
   "id": "4a8bc4c8",
   "metadata": {},
   "outputs": [
    {
     "name": "stdout",
     "output_type": "stream",
     "text": [
      "Total shares 63.04476565302408\r\n",
      "Final value 10691.76\r\n"
     ]
    }
   ],
   "source": [
    "%cat apple.results"
   ]
  },
  {
   "cell_type": "code",
   "execution_count": null,
   "id": "0acb8562",
   "metadata": {},
   "outputs": [],
   "source": []
  }
 ],
 "metadata": {
  "kernelspec": {
   "display_name": "Python 3 (ipykernel)",
   "language": "python",
   "name": "python3"
  },
  "language_info": {
   "codemirror_mode": {
    "name": "ipython",
    "version": 3
   },
   "file_extension": ".py",
   "mimetype": "text/x-python",
   "name": "python",
   "nbconvert_exporter": "python",
   "pygments_lexer": "ipython3",
   "version": "3.11.0"
  }
 },
 "nbformat": 4,
 "nbformat_minor": 5
}
