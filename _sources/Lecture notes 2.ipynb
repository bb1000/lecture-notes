{
 "cells": [
  {
   "cell_type": "markdown",
   "id": "0f2f8c91",
   "metadata": {},
   "source": [
    "## Command line basics\n",
    "\n",
    "Go to  https://swcarpentry.github.io/shell-novice/\n",
    "\n",
    "This represents workshop material for learning about the bash shell.\n",
    "\n",
    "Here we limit ourselves on sections 1-3, on looking at the file system from the comman line\n",
    "\n",
    "Commands used in section 1\n",
    "\n",
    "~~~\n",
    "pwd - print working directory\n",
    "cd  - change direcory \n",
    "ls  - list files\n",
    "\n",
    "~~~\n",
    "\n",
    "\n"
   ]
  },
  {
   "cell_type": "markdown",
   "id": "b3b19ec9",
   "metadata": {},
   "source": [
    "Table with equivalent windows commands\n",
    "\n",
    "| mac/linux | windows |\n",
    "| --------- | ------- |\n",
    "| pwd       | pwd     |\n",
    "| cd        | cd      |\n",
    "| ls        | dir     |\n",
    "\n",
    "* note that `cd` works differently without argument"
   ]
  },
  {
   "cell_type": "code",
   "execution_count": null,
   "id": "56f51bd6",
   "metadata": {},
   "outputs": [],
   "source": []
  }
 ],
 "metadata": {
  "kernelspec": {
   "display_name": "Python 3 (ipykernel)",
   "language": "python",
   "name": "python3"
  },
  "language_info": {
   "codemirror_mode": {
    "name": "ipython",
    "version": 3
   },
   "file_extension": ".py",
   "mimetype": "text/x-python",
   "name": "python",
   "nbconvert_exporter": "python",
   "pygments_lexer": "ipython3",
   "version": "3.11.0"
  }
 },
 "nbformat": 4,
 "nbformat_minor": 5
}
