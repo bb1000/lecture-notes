{
 "cells": [
  {
   "cell_type": "markdown",
   "id": "d9810311",
   "metadata": {},
   "source": [
    "# Lecture Notes 15\n",
    "## classes"
   ]
  },
  {
   "cell_type": "code",
   "execution_count": 1,
   "id": "6854a51a",
   "metadata": {},
   "outputs": [],
   "source": [
    "a_string = \"hello\""
   ]
  },
  {
   "cell_type": "code",
   "execution_count": 2,
   "id": "10abb142",
   "metadata": {},
   "outputs": [
    {
     "data": {
      "text/plain": [
       "str"
      ]
     },
     "execution_count": 2,
     "metadata": {},
     "output_type": "execute_result"
    }
   ],
   "source": [
    "type(a_string)"
   ]
  },
  {
   "cell_type": "code",
   "execution_count": 3,
   "id": "c3b74cb4",
   "metadata": {},
   "outputs": [
    {
     "data": {
      "text/plain": [
       "'HELLO'"
      ]
     },
     "execution_count": 3,
     "metadata": {},
     "output_type": "execute_result"
    }
   ],
   "source": [
    "a_string.upper()"
   ]
  },
  {
   "cell_type": "code",
   "execution_count": 190,
   "id": "99e7ae03",
   "metadata": {},
   "outputs": [],
   "source": [
    "class Person:\n",
    "    count = 0\n",
    "    def __init__(self, given_name=\"X\", surname=\"Y\"):\n",
    "        self.given_name = given_name\n",
    "        self.surname = surname\n",
    "        Person.count += 1\n",
    "        \n",
    "        \n",
    "    def __str__(self):\n",
    "        return f\"{self.surname}, {self.given_name}\"\n",
    "    \n",
    "    def __repr__(self):\n",
    "        return f'Person(\"{self.given_name}\", \"{self.surname}\")'\n",
    "    \n",
    "    def display_person(self):\n",
    "        print(f\"My name is {self.surname}, {self.given_name} {self.surname}\")"
   ]
  },
  {
   "cell_type": "code",
   "execution_count": 191,
   "id": "6331d982",
   "metadata": {},
   "outputs": [
    {
     "data": {
      "text/plain": [
       "Person(\"X\", \"Y\")"
      ]
     },
     "execution_count": 191,
     "metadata": {},
     "output_type": "execute_result"
    }
   ],
   "source": [
    "Person()"
   ]
  },
  {
   "cell_type": "code",
   "execution_count": 97,
   "id": "4c5ac574",
   "metadata": {},
   "outputs": [],
   "source": [
    "person = Person(\"Joe\", \"Smith\")  # starts by calling __init__(self, \"Joe\", \"Smith\")"
   ]
  },
  {
   "cell_type": "code",
   "execution_count": 98,
   "id": "55d998be",
   "metadata": {},
   "outputs": [
    {
     "data": {
      "text/plain": [
       "['__class__',\n",
       " '__delattr__',\n",
       " '__dict__',\n",
       " '__dir__',\n",
       " '__doc__',\n",
       " '__eq__',\n",
       " '__format__',\n",
       " '__ge__',\n",
       " '__getattribute__',\n",
       " '__getstate__',\n",
       " '__gt__',\n",
       " '__hash__',\n",
       " '__init__',\n",
       " '__init_subclass__',\n",
       " '__le__',\n",
       " '__lt__',\n",
       " '__module__',\n",
       " '__ne__',\n",
       " '__new__',\n",
       " '__reduce__',\n",
       " '__reduce_ex__',\n",
       " '__repr__',\n",
       " '__setattr__',\n",
       " '__sizeof__',\n",
       " '__str__',\n",
       " '__subclasshook__',\n",
       " '__weakref__',\n",
       " 'count',\n",
       " 'display_person',\n",
       " 'given_name',\n",
       " 'surname']"
      ]
     },
     "execution_count": 98,
     "metadata": {},
     "output_type": "execute_result"
    }
   ],
   "source": [
    "dir(person)"
   ]
  },
  {
   "cell_type": "code",
   "execution_count": 99,
   "id": "f7d93e8e",
   "metadata": {},
   "outputs": [
    {
     "data": {
      "text/plain": [
       "{'given_name': 'Joe', 'surname': 'Smith'}"
      ]
     },
     "execution_count": 99,
     "metadata": {},
     "output_type": "execute_result"
    }
   ],
   "source": [
    "person.__dict__"
   ]
  },
  {
   "cell_type": "code",
   "execution_count": 100,
   "id": "0e1e550b",
   "metadata": {},
   "outputs": [
    {
     "data": {
      "text/plain": [
       "'Joe'"
      ]
     },
     "execution_count": 100,
     "metadata": {},
     "output_type": "execute_result"
    }
   ],
   "source": [
    "person.given_name"
   ]
  },
  {
   "cell_type": "code",
   "execution_count": 101,
   "id": "bc6f10bd",
   "metadata": {},
   "outputs": [
    {
     "data": {
      "text/plain": [
       "'Smith'"
      ]
     },
     "execution_count": 101,
     "metadata": {},
     "output_type": "execute_result"
    }
   ],
   "source": [
    "person.surname"
   ]
  },
  {
   "cell_type": "code",
   "execution_count": 102,
   "id": "d8eabb06",
   "metadata": {},
   "outputs": [
    {
     "data": {
      "text/plain": [
       "'Smith, Joe'"
      ]
     },
     "execution_count": 102,
     "metadata": {},
     "output_type": "execute_result"
    }
   ],
   "source": [
    "person.__str__()"
   ]
  },
  {
   "cell_type": "code",
   "execution_count": 103,
   "id": "e594553c",
   "metadata": {},
   "outputs": [
    {
     "data": {
      "text/plain": [
       "'Smith, Joe'"
      ]
     },
     "execution_count": 103,
     "metadata": {},
     "output_type": "execute_result"
    }
   ],
   "source": [
    "str(person)  # delegates logic to person.__str__"
   ]
  },
  {
   "cell_type": "code",
   "execution_count": 104,
   "id": "6fcf65dd",
   "metadata": {},
   "outputs": [
    {
     "name": "stdout",
     "output_type": "stream",
     "text": [
      "Smith, Joe\n"
     ]
    }
   ],
   "source": [
    "print(person)"
   ]
  },
  {
   "cell_type": "code",
   "execution_count": 105,
   "id": "c8892c3e",
   "metadata": {},
   "outputs": [],
   "source": [
    "person.given_name = \"John\""
   ]
  },
  {
   "cell_type": "code",
   "execution_count": 106,
   "id": "52362027",
   "metadata": {},
   "outputs": [
    {
     "name": "stdout",
     "output_type": "stream",
     "text": [
      "Smith, John\n"
     ]
    }
   ],
   "source": [
    "print(person)"
   ]
  },
  {
   "cell_type": "code",
   "execution_count": 107,
   "id": "f56d678f",
   "metadata": {},
   "outputs": [
    {
     "name": "stdout",
     "output_type": "stream",
     "text": [
      "My name is Smith, John Smith\n"
     ]
    }
   ],
   "source": [
    "person.display_person()"
   ]
  },
  {
   "cell_type": "code",
   "execution_count": 108,
   "id": "f686d340",
   "metadata": {},
   "outputs": [
    {
     "data": {
      "text/plain": [
       "1"
      ]
     },
     "execution_count": 108,
     "metadata": {},
     "output_type": "execute_result"
    }
   ],
   "source": [
    "Person.count"
   ]
  },
  {
   "cell_type": "code",
   "execution_count": 109,
   "id": "75f8a319",
   "metadata": {},
   "outputs": [
    {
     "data": {
      "text/plain": [
       "1"
      ]
     },
     "execution_count": 109,
     "metadata": {},
     "output_type": "execute_result"
    }
   ],
   "source": [
    "person.count"
   ]
  },
  {
   "cell_type": "code",
   "execution_count": 110,
   "id": "840ecb5f",
   "metadata": {},
   "outputs": [],
   "source": [
    "person2 = Person(\"Jane\", \"Doe\")"
   ]
  },
  {
   "cell_type": "code",
   "execution_count": 111,
   "id": "c1bf5ce5",
   "metadata": {},
   "outputs": [
    {
     "name": "stdout",
     "output_type": "stream",
     "text": [
      "Doe, Jane\n"
     ]
    }
   ],
   "source": [
    "print(person2)"
   ]
  },
  {
   "cell_type": "code",
   "execution_count": 112,
   "id": "1844204e",
   "metadata": {},
   "outputs": [
    {
     "data": {
      "text/plain": [
       "2"
      ]
     },
     "execution_count": 112,
     "metadata": {},
     "output_type": "execute_result"
    }
   ],
   "source": [
    "Person.count"
   ]
  },
  {
   "cell_type": "code",
   "execution_count": 113,
   "id": "a3914fc0",
   "metadata": {},
   "outputs": [
    {
     "data": {
      "text/plain": [
       "2"
      ]
     },
     "execution_count": 113,
     "metadata": {},
     "output_type": "execute_result"
    }
   ],
   "source": [
    "person2.count"
   ]
  },
  {
   "cell_type": "code",
   "execution_count": 114,
   "id": "1ee0dfdf",
   "metadata": {},
   "outputs": [
    {
     "data": {
      "text/plain": [
       "2"
      ]
     },
     "execution_count": 114,
     "metadata": {},
     "output_type": "execute_result"
    }
   ],
   "source": [
    "person.count"
   ]
  },
  {
   "cell_type": "code",
   "execution_count": 115,
   "id": "957eb8c6",
   "metadata": {},
   "outputs": [
    {
     "data": {
      "text/plain": [
       "Person(\"John\", \"Smith\")"
      ]
     },
     "execution_count": 115,
     "metadata": {},
     "output_type": "execute_result"
    }
   ],
   "source": [
    "person"
   ]
  },
  {
   "cell_type": "code",
   "execution_count": 116,
   "id": "7b82b089",
   "metadata": {},
   "outputs": [
    {
     "data": {
      "text/plain": [
       "'Person(\"John\", \"Smith\")'"
      ]
     },
     "execution_count": 116,
     "metadata": {},
     "output_type": "execute_result"
    }
   ],
   "source": [
    "person.__repr__()"
   ]
  },
  {
   "cell_type": "code",
   "execution_count": 117,
   "id": "d511e85b",
   "metadata": {},
   "outputs": [
    {
     "data": {
      "text/plain": [
       "'Person(\"John\", \"Smith\")'"
      ]
     },
     "execution_count": 117,
     "metadata": {},
     "output_type": "execute_result"
    }
   ],
   "source": [
    "repr(person) # delegates ro person.__repr__"
   ]
  },
  {
   "cell_type": "code",
   "execution_count": 118,
   "id": "7651ceea",
   "metadata": {},
   "outputs": [
    {
     "data": {
      "text/plain": [
       "'John'"
      ]
     },
     "execution_count": 118,
     "metadata": {},
     "output_type": "execute_result"
    }
   ],
   "source": [
    "person.given_name"
   ]
  },
  {
   "cell_type": "code",
   "execution_count": 119,
   "id": "535c50ed",
   "metadata": {},
   "outputs": [
    {
     "data": {
      "text/plain": [
       "'John'"
      ]
     },
     "execution_count": 119,
     "metadata": {},
     "output_type": "execute_result"
    }
   ],
   "source": [
    "person.__dict__['given_name']"
   ]
  },
  {
   "cell_type": "code",
   "execution_count": 120,
   "id": "789fda97",
   "metadata": {},
   "outputs": [
    {
     "data": {
      "text/plain": [
       "'John'"
      ]
     },
     "execution_count": 120,
     "metadata": {},
     "output_type": "execute_result"
    }
   ],
   "source": [
    "person.__getattribute__('given_name')"
   ]
  },
  {
   "cell_type": "markdown",
   "id": "237ce531",
   "metadata": {},
   "source": [
    "## operator overloading"
   ]
  },
  {
   "cell_type": "code",
   "execution_count": 121,
   "id": "eac38134",
   "metadata": {},
   "outputs": [
    {
     "data": {
      "text/plain": [
       "3"
      ]
     },
     "execution_count": 121,
     "metadata": {},
     "output_type": "execute_result"
    }
   ],
   "source": [
    "1 + 2"
   ]
  },
  {
   "cell_type": "code",
   "execution_count": 122,
   "id": "6ec8ddf3",
   "metadata": {},
   "outputs": [
    {
     "data": {
      "text/plain": [
       "'12'"
      ]
     },
     "execution_count": 122,
     "metadata": {},
     "output_type": "execute_result"
    }
   ],
   "source": [
    "\"1\" + \"2\""
   ]
  },
  {
   "cell_type": "code",
   "execution_count": 123,
   "id": "b22d7435",
   "metadata": {},
   "outputs": [
    {
     "data": {
      "text/plain": [
       "[1, 2]"
      ]
     },
     "execution_count": 123,
     "metadata": {},
     "output_type": "execute_result"
    }
   ],
   "source": [
    "[1] + [2]"
   ]
  },
  {
   "cell_type": "code",
   "execution_count": null,
   "id": "3b2e8eb8",
   "metadata": {},
   "outputs": [],
   "source": [
    "# + delegated to __add__ method\n"
   ]
  },
  {
   "cell_type": "code",
   "execution_count": 173,
   "id": "cd91f778",
   "metadata": {},
   "outputs": [],
   "source": [
    "class MyComplex:\n",
    "    def __init__(self, re=0, im=0):\n",
    "        self.re = re\n",
    "        self.im = im\n",
    "        \n",
    "    def __add__(self, other):\n",
    "        sum_re = self.re + other.re\n",
    "        sum_im = self.im + other.im\n",
    "        return MyComplex(sum_re, sum_im)\n",
    "    \n",
    "    def __neg__(self):\n",
    "        return MyComplex(-self.re, -self.im)\n",
    "    \n",
    "    def __repr__(self):\n",
    "        return f'MyComplex({self.re}, {self.im})'\n",
    "    \n",
    "    def __str__(self):\n",
    "        if self.im >= 0:\n",
    "            return f'{self.re} + {self.im}i'\n",
    "        else:\n",
    "            return f'{self.re} - {-self.im}i'"
   ]
  },
  {
   "cell_type": "code",
   "execution_count": 174,
   "id": "96f56f0b",
   "metadata": {},
   "outputs": [
    {
     "data": {
      "text/plain": [
       "(0, 12, 12)"
      ]
     },
     "execution_count": 174,
     "metadata": {},
     "output_type": "execute_result"
    }
   ],
   "source": [
    "#compare with int\n",
    "int(), int('12'), int(12)"
   ]
  },
  {
   "cell_type": "code",
   "execution_count": 175,
   "id": "eefe3d99",
   "metadata": {},
   "outputs": [],
   "source": [
    "z = MyComplex()"
   ]
  },
  {
   "cell_type": "code",
   "execution_count": 176,
   "id": "7d8fceb4",
   "metadata": {},
   "outputs": [
    {
     "data": {
      "text/plain": [
       "0"
      ]
     },
     "execution_count": 176,
     "metadata": {},
     "output_type": "execute_result"
    }
   ],
   "source": [
    "z.re"
   ]
  },
  {
   "cell_type": "code",
   "execution_count": 177,
   "id": "b0ad4792",
   "metadata": {},
   "outputs": [
    {
     "data": {
      "text/plain": [
       "0"
      ]
     },
     "execution_count": 177,
     "metadata": {},
     "output_type": "execute_result"
    }
   ],
   "source": [
    "z.im"
   ]
  },
  {
   "cell_type": "code",
   "execution_count": 178,
   "id": "3fbaf604",
   "metadata": {},
   "outputs": [
    {
     "data": {
      "text/plain": [
       "MyComplex(0, 0)"
      ]
     },
     "execution_count": 178,
     "metadata": {},
     "output_type": "execute_result"
    }
   ],
   "source": [
    "z + z"
   ]
  },
  {
   "cell_type": "code",
   "execution_count": 179,
   "id": "ddaff2c0",
   "metadata": {},
   "outputs": [],
   "source": [
    "z1 = MyComplex(1, 2)"
   ]
  },
  {
   "cell_type": "code",
   "execution_count": 180,
   "id": "2315ef40",
   "metadata": {},
   "outputs": [
    {
     "data": {
      "text/plain": [
       "MyComplex(1, 2)"
      ]
     },
     "execution_count": 180,
     "metadata": {},
     "output_type": "execute_result"
    }
   ],
   "source": [
    "z + z1"
   ]
  },
  {
   "cell_type": "code",
   "execution_count": 181,
   "id": "c8e8e9c3",
   "metadata": {},
   "outputs": [
    {
     "name": "stdout",
     "output_type": "stream",
     "text": [
      "2 + 4i\n"
     ]
    }
   ],
   "source": [
    "print(z1 + z1)"
   ]
  },
  {
   "cell_type": "code",
   "execution_count": 182,
   "id": "a81ee44f",
   "metadata": {},
   "outputs": [],
   "source": [
    "z2 = MyComplex(1, -2)"
   ]
  },
  {
   "cell_type": "code",
   "execution_count": 183,
   "id": "d1fae911",
   "metadata": {},
   "outputs": [
    {
     "data": {
      "text/plain": [
       "MyComplex(1, -2)"
      ]
     },
     "execution_count": 183,
     "metadata": {},
     "output_type": "execute_result"
    }
   ],
   "source": [
    "z2"
   ]
  },
  {
   "cell_type": "code",
   "execution_count": 184,
   "id": "c6e1a9b3",
   "metadata": {},
   "outputs": [
    {
     "name": "stdout",
     "output_type": "stream",
     "text": [
      "1 - 2i\n"
     ]
    }
   ],
   "source": [
    "print(z2)"
   ]
  },
  {
   "cell_type": "code",
   "execution_count": 185,
   "id": "408bd3b2",
   "metadata": {},
   "outputs": [
    {
     "name": "stdout",
     "output_type": "stream",
     "text": [
      "2 + 0i\n"
     ]
    }
   ],
   "source": [
    "print(z1 + z2)"
   ]
  },
  {
   "cell_type": "code",
   "execution_count": 187,
   "id": "556bebfa",
   "metadata": {},
   "outputs": [
    {
     "data": {
      "text/plain": [
       "MyComplex(1, 2)"
      ]
     },
     "execution_count": 187,
     "metadata": {},
     "output_type": "execute_result"
    }
   ],
   "source": [
    "z1"
   ]
  },
  {
   "cell_type": "code",
   "execution_count": 186,
   "id": "a9097dee",
   "metadata": {},
   "outputs": [
    {
     "data": {
      "text/plain": [
       "MyComplex(-1, -2)"
      ]
     },
     "execution_count": 186,
     "metadata": {},
     "output_type": "execute_result"
    }
   ],
   "source": [
    "-z1"
   ]
  },
  {
   "cell_type": "code",
   "execution_count": 189,
   "id": "c9ac63f9",
   "metadata": {},
   "outputs": [
    {
     "name": "stdout",
     "output_type": "stream",
     "text": [
      "1 + 2i -1 - 2i\n"
     ]
    }
   ],
   "source": [
    "print(z1, -z1)"
   ]
  },
  {
   "cell_type": "code",
   "execution_count": null,
   "id": "a9096bcc",
   "metadata": {},
   "outputs": [],
   "source": []
  }
 ],
 "metadata": {
  "kernelspec": {
   "display_name": "Python 3 (ipykernel)",
   "language": "python",
   "name": "python3"
  },
  "language_info": {
   "codemirror_mode": {
    "name": "ipython",
    "version": 3
   },
   "file_extension": ".py",
   "mimetype": "text/x-python",
   "name": "python",
   "nbconvert_exporter": "python",
   "pygments_lexer": "ipython3",
   "version": "3.11.0"
  }
 },
 "nbformat": 4,
 "nbformat_minor": 5
}
