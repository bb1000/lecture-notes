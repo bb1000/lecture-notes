{
 "cells": [
  {
   "cell_type": "markdown",
   "id": "7a560538",
   "metadata": {},
   "source": [
    "# Lecture Notes 17"
   ]
  },
  {
   "cell_type": "markdown",
   "id": "3e6199a4",
   "metadata": {},
   "source": [
    "    @pytest.mark.parametrize\n",
    "    def test_xxx():\n",
    "        ..."
   ]
  },
  {
   "cell_type": "code",
   "execution_count": 1,
   "id": "a049e749",
   "metadata": {},
   "outputs": [],
   "source": [
    "def f(x):\n",
    "    return x**2"
   ]
  },
  {
   "cell_type": "code",
   "execution_count": 2,
   "id": "ece5bcf3",
   "metadata": {},
   "outputs": [],
   "source": [
    "def g(func):\n",
    "    print(\"Calling function with x=2\")\n",
    "    result = func(2)\n",
    "    print(\"Return value\", result)\n",
    "    return result"
   ]
  },
  {
   "cell_type": "code",
   "execution_count": 3,
   "id": "58d28dea",
   "metadata": {},
   "outputs": [
    {
     "name": "stdout",
     "output_type": "stream",
     "text": [
      "Calling function with x=2\n",
      "Return value 4\n"
     ]
    },
    {
     "data": {
      "text/plain": [
       "4"
      ]
     },
     "execution_count": 3,
     "metadata": {},
     "output_type": "execute_result"
    }
   ],
   "source": [
    "g(f)"
   ]
  },
  {
   "cell_type": "markdown",
   "id": "4dd3eeee",
   "metadata": {},
   "source": [
    "* function that takes another function as input"
   ]
  },
  {
   "cell_type": "markdown",
   "id": "ec05085a",
   "metadata": {},
   "source": [
    "## decorators\n",
    "\n",
    "* function that take a function as input and returns a function as output"
   ]
  },
  {
   "cell_type": "code",
   "execution_count": 4,
   "id": "7ddfafd6",
   "metadata": {},
   "outputs": [],
   "source": [
    "def id_decorator(func):\n",
    "    return func"
   ]
  },
  {
   "cell_type": "code",
   "execution_count": 5,
   "id": "56b809aa",
   "metadata": {},
   "outputs": [],
   "source": [
    "g = id_decorator(f)"
   ]
  },
  {
   "cell_type": "code",
   "execution_count": 6,
   "id": "27a8f4dd",
   "metadata": {},
   "outputs": [
    {
     "data": {
      "text/plain": [
       "4"
      ]
     },
     "execution_count": 6,
     "metadata": {},
     "output_type": "execute_result"
    }
   ],
   "source": [
    "g(2)"
   ]
  },
  {
   "cell_type": "code",
   "execution_count": 7,
   "id": "cc9605cf",
   "metadata": {},
   "outputs": [
    {
     "data": {
      "text/plain": [
       "4"
      ]
     },
     "execution_count": 7,
     "metadata": {},
     "output_type": "execute_result"
    }
   ],
   "source": [
    "f(2)"
   ]
  },
  {
   "cell_type": "markdown",
   "id": "aa613b71",
   "metadata": {},
   "source": [
    "* decorator that reports timing"
   ]
  },
  {
   "cell_type": "code",
   "execution_count": 8,
   "id": "23522d71",
   "metadata": {},
   "outputs": [],
   "source": [
    "import time\n",
    "def f(x):\n",
    "    time.sleep(1)\n",
    "    return x**2"
   ]
  },
  {
   "cell_type": "code",
   "execution_count": 9,
   "id": "0ba49a48",
   "metadata": {},
   "outputs": [
    {
     "data": {
      "text/plain": [
       "4"
      ]
     },
     "execution_count": 9,
     "metadata": {},
     "output_type": "execute_result"
    }
   ],
   "source": [
    "f(2)"
   ]
  },
  {
   "cell_type": "code",
   "execution_count": 10,
   "id": "6d13d47a",
   "metadata": {},
   "outputs": [
    {
     "name": "stdout",
     "output_type": "stream",
     "text": [
      "Time used in function 1.000467300415039\n"
     ]
    }
   ],
   "source": [
    "t1 = time.time()\n",
    "f(2)\n",
    "t2 = time.time()\n",
    "print(\"Time used in function\", t2-t1)"
   ]
  },
  {
   "cell_type": "code",
   "execution_count": 11,
   "id": "abff95d9",
   "metadata": {},
   "outputs": [],
   "source": [
    "def time_me(func):\n",
    "    def wrapper(x):\n",
    "        t1 = time.time()\n",
    "        result = func(x)\n",
    "        t2 = time.time()\n",
    "        print(\"Time used in function\", t2-t1)\n",
    "        return result\n",
    "    return wrapper"
   ]
  },
  {
   "cell_type": "code",
   "execution_count": 13,
   "id": "b3735db2",
   "metadata": {},
   "outputs": [
    {
     "name": "stdout",
     "output_type": "stream",
     "text": [
      "Time used in function 1.000136137008667\n"
     ]
    },
    {
     "data": {
      "text/plain": [
       "4"
      ]
     },
     "execution_count": 13,
     "metadata": {},
     "output_type": "execute_result"
    }
   ],
   "source": [
    "time_me(f)(2)"
   ]
  },
  {
   "cell_type": "code",
   "execution_count": 14,
   "id": "8301ad8d",
   "metadata": {},
   "outputs": [],
   "source": [
    "f = time_me(f)"
   ]
  },
  {
   "cell_type": "code",
   "execution_count": 15,
   "id": "875f2e56",
   "metadata": {},
   "outputs": [
    {
     "name": "stdout",
     "output_type": "stream",
     "text": [
      "Time used in function 1.000107765197754\n"
     ]
    },
    {
     "data": {
      "text/plain": [
       "4"
      ]
     },
     "execution_count": 15,
     "metadata": {},
     "output_type": "execute_result"
    }
   ],
   "source": [
    "f(2)"
   ]
  },
  {
   "cell_type": "code",
   "execution_count": 28,
   "id": "8b8ff7c8",
   "metadata": {},
   "outputs": [],
   "source": [
    "@time_me\n",
    "def f(x, a=1):\n",
    "    time.sleep(1)\n",
    "    return a*x**2"
   ]
  },
  {
   "cell_type": "code",
   "execution_count": 29,
   "id": "d6bbb2ef",
   "metadata": {},
   "outputs": [
    {
     "name": "stdout",
     "output_type": "stream",
     "text": [
      "Time used in function 1.0001368522644043\n"
     ]
    },
    {
     "data": {
      "text/plain": [
       "4"
      ]
     },
     "execution_count": 29,
     "metadata": {},
     "output_type": "execute_result"
    }
   ],
   "source": [
    "f(2)"
   ]
  },
  {
   "cell_type": "code",
   "execution_count": 30,
   "id": "41ad47ef",
   "metadata": {},
   "outputs": [
    {
     "ename": "TypeError",
     "evalue": "time_me.<locals>.wrapper() got an unexpected keyword argument 'a'",
     "output_type": "error",
     "traceback": [
      "\u001b[0;31m---------------------------------------------------------------------------\u001b[0m",
      "\u001b[0;31mTypeError\u001b[0m                                 Traceback (most recent call last)",
      "Cell \u001b[0;32mIn[30], line 1\u001b[0m\n\u001b[0;32m----> 1\u001b[0m f(\u001b[38;5;241m2\u001b[39m, a\u001b[38;5;241m=\u001b[39m\u001b[38;5;241m.1\u001b[39m)\n",
      "\u001b[0;31mTypeError\u001b[0m: time_me.<locals>.wrapper() got an unexpected keyword argument 'a'"
     ]
    }
   ],
   "source": [
    "f(2, a=.1)"
   ]
  },
  {
   "cell_type": "markdown",
   "id": "c0b5485a",
   "metadata": {},
   "source": [
    "For general arguments: args/kwargs"
   ]
  },
  {
   "cell_type": "code",
   "execution_count": 18,
   "id": "57a5432c",
   "metadata": {},
   "outputs": [],
   "source": [
    "def wrapper(*args, **kwargs):\n",
    "    print(args)\n",
    "    print(kwargs)"
   ]
  },
  {
   "cell_type": "code",
   "execution_count": 19,
   "id": "f9932529",
   "metadata": {},
   "outputs": [
    {
     "name": "stdout",
     "output_type": "stream",
     "text": [
      "()\n",
      "{}\n"
     ]
    }
   ],
   "source": [
    "wrapper()"
   ]
  },
  {
   "cell_type": "code",
   "execution_count": 20,
   "id": "a56f0f02",
   "metadata": {},
   "outputs": [
    {
     "name": "stdout",
     "output_type": "stream",
     "text": [
      "(1, 2)\n",
      "{}\n"
     ]
    }
   ],
   "source": [
    "wrapper(1, 2)"
   ]
  },
  {
   "cell_type": "code",
   "execution_count": 21,
   "id": "18f752a7",
   "metadata": {},
   "outputs": [
    {
     "name": "stdout",
     "output_type": "stream",
     "text": [
      "(1, 2)\n",
      "{'c': 3}\n"
     ]
    }
   ],
   "source": [
    "wrapper(1, 2, c=3)"
   ]
  },
  {
   "cell_type": "code",
   "execution_count": 31,
   "id": "d97ce223",
   "metadata": {},
   "outputs": [],
   "source": [
    "def time_me(func):\n",
    "    def wrapper(*args, **kwargs):\n",
    "        t1 = time.time()\n",
    "        result = func(*args, **kwargs)\n",
    "        t2 = time.time()\n",
    "        print(\"Time used in function\", t2-t1)\n",
    "        return result\n",
    "    return wrapper"
   ]
  },
  {
   "cell_type": "code",
   "execution_count": 32,
   "id": "67ae6a8e",
   "metadata": {},
   "outputs": [],
   "source": [
    "@time_me\n",
    "def f(x, a=1):\n",
    "    time.sleep(1)\n",
    "    return a*x**2"
   ]
  },
  {
   "cell_type": "code",
   "execution_count": 34,
   "id": "4f2e7005",
   "metadata": {},
   "outputs": [
    {
     "name": "stdout",
     "output_type": "stream",
     "text": [
      "Time used in function 1.0001630783081055\n"
     ]
    },
    {
     "data": {
      "text/plain": [
       "4"
      ]
     },
     "execution_count": 34,
     "metadata": {},
     "output_type": "execute_result"
    }
   ],
   "source": [
    "f(2)"
   ]
  },
  {
   "cell_type": "code",
   "execution_count": 35,
   "id": "e7867dab",
   "metadata": {},
   "outputs": [
    {
     "name": "stdout",
     "output_type": "stream",
     "text": [
      "Time used in function 1.0001263618469238\n"
     ]
    },
    {
     "data": {
      "text/plain": [
       "0.4"
      ]
     },
     "execution_count": 35,
     "metadata": {},
     "output_type": "execute_result"
    }
   ],
   "source": [
    "f(2, a=0.1)"
   ]
  },
  {
   "cell_type": "markdown",
   "id": "864998eb",
   "metadata": {},
   "source": [
    "* decorator for debugging"
   ]
  },
  {
   "cell_type": "code",
   "execution_count": 44,
   "id": "e80e7fd4",
   "metadata": {},
   "outputs": [],
   "source": [
    "def trace(func):\n",
    "    def wrapper(*args, **kwargs):\n",
    "        print(f\"{func.__name__} called with arguments {args}, {kwargs}\")\n",
    "        result = func(*args, **kwargs)\n",
    "        print(f\"{func.__name__} returns {result}\")\n",
    "        return result\n",
    "    return wrapper\n",
    "\n",
    "def time_me(func):\n",
    "    def wrapper(*args, **kwargs):\n",
    "        t1 = time.time()\n",
    "        result = func(*args, **kwargs)\n",
    "        t2 = time.time()\n",
    "        print(f\"Time used in {func.__name__}\", t2-t1)\n",
    "        return result\n",
    "    return wrapper"
   ]
  },
  {
   "cell_type": "code",
   "execution_count": 47,
   "id": "b73b3251",
   "metadata": {},
   "outputs": [],
   "source": [
    "@time_me\n",
    "@trace\n",
    "def my_square(x, a=1):\n",
    "    time.sleep(1)\n",
    "    return a*x**2"
   ]
  },
  {
   "cell_type": "code",
   "execution_count": 48,
   "id": "cad1b574",
   "metadata": {},
   "outputs": [
    {
     "name": "stdout",
     "output_type": "stream",
     "text": [
      "my_square called with arguments (2,), {'a': 0.1}\n",
      "my_square returns 0.4\n",
      "Time used in wrapper 1.000516653060913\n"
     ]
    },
    {
     "data": {
      "text/plain": [
       "0.4"
      ]
     },
     "execution_count": 48,
     "metadata": {},
     "output_type": "execute_result"
    }
   ],
   "source": [
    "my_square(2, a=0.1)"
   ]
  },
  {
   "cell_type": "code",
   "execution_count": 49,
   "id": "53faa50d",
   "metadata": {},
   "outputs": [],
   "source": [
    "from functools import wraps\n",
    "\n",
    "def trace(func):\n",
    "    \n",
    "    @wraps(func)\n",
    "    def wrapper(*args, **kwargs):\n",
    "        print(f\"{func.__name__} called with arguments {args}, {kwargs}\")\n",
    "        result = func(*args, **kwargs)\n",
    "        print(f\"{func.__name__} returns {result}\")\n",
    "        return result\n",
    "    return wrapper\n",
    "\n",
    "def time_me(func):\n",
    "    \n",
    "    @wraps(func)\n",
    "    def wrapper(*args, **kwargs):\n",
    "        t1 = time.time()\n",
    "        result = func(*args, **kwargs)\n",
    "        t2 = time.time()\n",
    "        print(f\"Time used in {func.__name__}\", t2-t1)\n",
    "        return result\n",
    "    return wrapper"
   ]
  },
  {
   "cell_type": "code",
   "execution_count": 50,
   "id": "0085ae2e",
   "metadata": {},
   "outputs": [],
   "source": [
    "@time_me\n",
    "@trace\n",
    "def my_square(x, a=1):\n",
    "    time.sleep(1)\n",
    "    return a*x**2"
   ]
  },
  {
   "cell_type": "code",
   "execution_count": 51,
   "id": "8a6c9f2c",
   "metadata": {},
   "outputs": [
    {
     "name": "stdout",
     "output_type": "stream",
     "text": [
      "my_square called with arguments (2,), {'a': 0.1}\n",
      "my_square returns 0.4\n",
      "Time used in my_square 1.0028369426727295\n"
     ]
    },
    {
     "data": {
      "text/plain": [
       "0.4"
      ]
     },
     "execution_count": 51,
     "metadata": {},
     "output_type": "execute_result"
    }
   ],
   "source": [
    "my_square(2, a=0.1)"
   ]
  },
  {
   "cell_type": "code",
   "execution_count": 52,
   "id": "ed988558",
   "metadata": {},
   "outputs": [],
   "source": [
    "import functools\n",
    "\n",
    "@functools.cache\n",
    "@time_me\n",
    "def my_square(x, a=1):\n",
    "    time.sleep(1)\n",
    "    return a*x**2"
   ]
  },
  {
   "cell_type": "code",
   "execution_count": 53,
   "id": "471daa22",
   "metadata": {},
   "outputs": [
    {
     "name": "stdout",
     "output_type": "stream",
     "text": [
      "Time used in my_square 1.000098466873169\n"
     ]
    },
    {
     "data": {
      "text/plain": [
       "0.9"
      ]
     },
     "execution_count": 53,
     "metadata": {},
     "output_type": "execute_result"
    }
   ],
   "source": [
    "my_square(3, a=.1)"
   ]
  },
  {
   "cell_type": "code",
   "execution_count": 54,
   "id": "bcd03111",
   "metadata": {},
   "outputs": [
    {
     "name": "stdout",
     "output_type": "stream",
     "text": [
      "Time used in my_square 1.0000760555267334\n"
     ]
    },
    {
     "data": {
      "text/plain": [
       "16"
      ]
     },
     "execution_count": 54,
     "metadata": {},
     "output_type": "execute_result"
    }
   ],
   "source": [
    "my_square(4, a=1)"
   ]
  },
  {
   "cell_type": "code",
   "execution_count": 55,
   "id": "dff437ff",
   "metadata": {},
   "outputs": [
    {
     "data": {
      "text/plain": [
       "0.9"
      ]
     },
     "execution_count": 55,
     "metadata": {},
     "output_type": "execute_result"
    }
   ],
   "source": [
    "my_square(3, a=.1)"
   ]
  },
  {
   "cell_type": "code",
   "execution_count": 56,
   "id": "a8e998b7",
   "metadata": {},
   "outputs": [
    {
     "data": {
      "text/plain": [
       "16"
      ]
     },
     "execution_count": 56,
     "metadata": {},
     "output_type": "execute_result"
    }
   ],
   "source": [
    "my_square(4, a=1)"
   ]
  },
  {
   "cell_type": "code",
   "execution_count": 57,
   "id": "c1add15d",
   "metadata": {},
   "outputs": [
    {
     "name": "stdout",
     "output_type": "stream",
     "text": [
      "Time used in my_square 1.0001099109649658\n"
     ]
    },
    {
     "data": {
      "text/plain": [
       "32"
      ]
     },
     "execution_count": 57,
     "metadata": {},
     "output_type": "execute_result"
    }
   ],
   "source": [
    "my_square(4, a=2)"
   ]
  },
  {
   "cell_type": "code",
   "execution_count": null,
   "id": "0b20bba5",
   "metadata": {},
   "outputs": [],
   "source": []
  }
 ],
 "metadata": {
  "kernelspec": {
   "display_name": "Python 3 (ipykernel)",
   "language": "python",
   "name": "python3"
  },
  "language_info": {
   "codemirror_mode": {
    "name": "ipython",
    "version": 3
   },
   "file_extension": ".py",
   "mimetype": "text/x-python",
   "name": "python",
   "nbconvert_exporter": "python",
   "pygments_lexer": "ipython3",
   "version": "3.11.0"
  }
 },
 "nbformat": 4,
 "nbformat_minor": 5
}
