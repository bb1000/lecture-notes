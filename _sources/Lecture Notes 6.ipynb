{
 "cells": [
  {
   "cell_type": "markdown",
   "id": "41090822",
   "metadata": {},
   "source": [
    "# Lecture Notes 6\n",
    "\n",
    "## ssh keys\n",
    "\n",
    "* Generate a new pair of sshkeys with\n",
    "\n",
    "~~~\n",
    "$ ssh-keygen\n",
    "Generating public/private rsa key pair.\n",
    "Enter file in which to save the key (/home/python-lll/.ssh/id_rsa): \n",
    "Created directory '/home/python-lll/.ssh'.\n",
    "Enter passphrase (empty for no passphrase): \n",
    "Enter same passphrase again: \n",
    "Your identification has been saved in /home/python-lll/.ssh/id_rsa\n",
    "Your public key has been saved in /home/python-lll/.ssh/id_rsa.pub\n",
    "The key fingerprint is:\n",
    "SHA256:AkLdasm36JyaLixeOrT0maAAy5wvkF4Hf6esGsLNGtw python-lll@bat\n",
    "The key's randomart image is:\n",
    "+---[RSA 3072]----+\n",
    "|  .. .           |\n",
    "| .  . .          |\n",
    "|  ...o           |\n",
    "|.  o=..          |\n",
    "|+o..oo..S        |\n",
    "|BB+..o.o .       |\n",
    "|O=*E+.o o        |\n",
    "|+***=  o         |\n",
    "|o**o...          |\n",
    "+----[SHA256]-----+\n",
    "~~~\n",
    "}\n",
    "* The hidden `.ssh` folder is where the keys are stored:\n",
    "\n",
    "~~~\n",
    "$ ls .ssh\n",
    "id_rsa  id_rsa.pub\n",
    "$ more .ssh/id_rsa.pub \n",
    "ssh-rsa AAAAB3NzaC1yc2EAAAADAQABAAABgQDv1DgQURdmseEd7QKx1+vh6KZoN6E/d/VVP5x5/4OL\n",
    "r0xj3w3lMFMvTKgH43vZ+NNTidT8TcLrJLMwq/tLUmxnLd/k13kK12qdBU/1ovZnwqO0ELAiz08kGBVy\n",
    "Yw5POCPJVi5y5gfoU4bcmptsrNmWcUk/IFj6VzG+kh5YptqwPqpOYAnZ6ECK9yfmlurSExdSvotiPQAS\n",
    "E1tH2ZnQuT443K+EZhOE2kMuNhhk0bVReIF83AtMfIrhyCyp4nieJmdfIxo28zfizqGOy4MnIfeRU43W\n",
    "HFHQDvV00GhCcUIbF6nbgxc/8BiDX8GvqJnZLK4uKVMZz2w56Z8Lm0VXvyhI1yC8rWqNqXdGyTEH+ut3\n",
    "jpwJ4slamkCFsUE2fJU0m2LrXBCYn9zLXNZaUrJjGno+M/TQi1JsvFgoTvCzo7odEF20xAXaazFs2NKY\n",
    "KL2bbNAJUL7SyamS8SzU4VxoIDss105Zeu1ZmddQRRVVTt45uryS/F1SsA/bfDcLrQLN+rs= python-\n",
    "lll@bat\n",
    "\n",
    "~~~"
   ]
  },
  {
   "cell_type": "markdown",
   "id": "12522ca0",
   "metadata": {},
   "source": [
    "### Setting up your github account\n",
    "\n",
    "From profile menu select Settings\n",
    "\n",
    "![foo](menu1.png)\n",
    "\n",
    "In the sidebar select `SSH and GPG Keys`\n",
    "\n",
    "![bar](menu2.png)\n",
    "\n",
    "Add new key\n",
    "\n",
    "![baz](keys.png)\n",
    "\n",
    "\n",
    "Copy-paste the public key (content of `id_rsa.pub`) to the `Key` field\n",
    "\n",
    "![boo](add.png)"
   ]
  },
  {
   "cell_type": "markdown",
   "id": "0222bb93",
   "metadata": {},
   "source": [
    "### Clonig the repository\n",
    "\n",
    "Now we can clone the repository from KTH Github"
   ]
  },
  {
   "cell_type": "markdown",
   "id": "9ac02712",
   "metadata": {},
   "source": [
    "~~~\n",
    "$ git clone git@gits-15.sys.kth.se:BB1000/git-2023-04-19.git\n",
    "Cloning into 'git-2023-04-19'...\n",
    "\n",
    "The authenticity of host 'gits-15.sys.kth.se (2001:6b0:1:1300:250:56ff:fe01:109)' can't be established.\n",
    "ECDSA key fingerprint is SHA256:OmuyB64vnycQufBPs7zDXyHYpCi89jTrHru802Q+4/E.\n",
    "This key is not known by any other names\n",
    "Are you sure you want to continue connecting (yes/no/[fingerprint])? yes\n",
    "Warning: Permanently added 'gits-15.sys.kth.se' (ECDSA) to the list of known hosts.\n",
    "warning: You appear to have cloned an empty repository.\n",
    "~~~\n",
    "\n",
    "that creates a new folder with the same name"
   ]
  },
  {
   "cell_type": "markdown",
   "id": "98d5a896",
   "metadata": {},
   "source": [
    "~~~\n",
    "$ cd git-2023-04-19\n",
    "~~~\n"
   ]
  },
  {
   "cell_type": "markdown",
   "id": "26aafeb4",
   "metadata": {},
   "source": [
    "### Create an initial file `booklist.txt`\n",
    "\n",
    "~~~\n",
    "$ ls\n",
    "booklist.txt\n",
    "~~~\n",
    "\n",
    "### What is the status according to git?\n",
    "\n",
    "~~~\n",
    "\n",
    "$ git status\n",
    "On branch main\n",
    "\n",
    "No commits yet\n",
    "\n",
    "Untracked files:\n",
    "  (use \"git add <file>...\" to include in what will be committed)\n",
    "\tbooklist.txt\n",
    "\n",
    "nothing added to commit but untracked files present (use \"git add\" to track)\n",
    "~~~"
   ]
  },
  {
   "cell_type": "markdown",
   "id": "5b432d6d",
   "metadata": {},
   "source": [
    "### Tell git to track `booklist.txt`\n",
    "\n",
    "~~~\n",
    "$ git add booklist.txt \n",
    "$ git status\n",
    "On branch main\n",
    "\n",
    "No commits yet\n",
    "\n",
    "Changes to be committed:\n",
    "  (use \"git rm --cached <file>...\" to unstage)\n",
    "\tnew file:   booklist.txt\n",
    "~~~"
   ]
  },
  {
   "cell_type": "markdown",
   "id": "0ebe68af",
   "metadata": {},
   "source": [
    "### Commit the new file to history\n",
    "\n",
    "~~~\n",
    "$ git commit -m \"Starting a booklist\"\n",
    "[main (root-commit) 803036a] Starting a booklist\n",
    " 1 file changed, 1 insertion(+)\n",
    " create mode 100644 booklist.txt\n",
    "~~~"
   ]
  },
  {
   "cell_type": "markdown",
   "id": "83595c16",
   "metadata": {},
   "source": [
    "~~~\n",
    "$ git log\n",
    "commit 803036a8d643fc482189a28542bac64917130574 (HEAD -> main)\n",
    "Author: Olav Vahtras <vahtras@kth.se>\n",
    "Date:   Tue Apr 18 16:26:26 2023 +0200\n",
    "\n",
    "    Starting a booklist\n",
    "    \n",
    "~~~"
   ]
  },
  {
   "cell_type": "markdown",
   "id": "17d7e776",
   "metadata": {},
   "source": [
    "### Get information of the remote repositories\n",
    "~~~\n",
    "$ git remote\n",
    "origin\n",
    "$ git remote -v\n",
    "origin\tgit@gits-15.sys.kth.se:BB1000/git-2023-04-19.git (fetch)\n",
    "origin\tgit@gits-15.sys.kth.se:BB1000/git-2023-04-19.git (push)\n",
    "~~~"
   ]
  },
  {
   "cell_type": "markdown",
   "id": "c749df19",
   "metadata": {},
   "source": [
    "### Backup the new changes to Github\n",
    "~~~\n",
    "$ git push  origin main\n",
    "Enumerating objects: 3, done.\n",
    "\n",
    "Counting objects: 100% (3/3), done.\n",
    "Writing objects: 100% (3/3), 247 bytes | 247.00 KiB/s, done.\n",
    "Total 3 (delta 0), reused 0 (delta 0), pack-reused 0\n",
    "To gits-15.sys.kth.se:BB1000/git-2023-04-19.git\n",
    " * [new branch]      main -> main\n",
    "~~~"
   ]
  },
  {
   "cell_type": "markdown",
   "id": "387f462a",
   "metadata": {},
   "source": [
    "Note that there is a new branch `origin/main` associated with the remote repository (KTH Github)\n",
    "~~~\n",
    "$ git log\n",
    "commit 803036a8d643fc482189a28542bac64917130574 (HEAD -> main, origin/main)\n",
    "Author: Olav Vahtras <vahtras@kth.se>\n",
    "Date:   Tue Apr 18 16:26:26 2023 +0200\n",
    "\n",
    "    Starting a booklist\n",
    "~~~"
   ]
  },
  {
   "cell_type": "markdown",
   "id": "472d510e",
   "metadata": {},
   "source": [
    "### Add a second book\n",
    "\n",
    "Assuming work on another computer: Editing the file `booklist.txt`"
   ]
  },
  {
   "cell_type": "markdown",
   "id": "982236f0",
   "metadata": {},
   "source": [
    "~~~\n",
    "\n",
    "$ git add booklist.txt \n",
    "\n",
    "$ git commit -m 'Add second book'\n",
    "[main 1df3614] Add second book\n",
    " 1 file changed, 1 insertion(+)\n",
    "~~~"
   ]
  },
  {
   "cell_type": "markdown",
   "id": "8cbd027b",
   "metadata": {},
   "source": [
    "### Backup to remote repository\n",
    "\n",
    "~~~\n",
    "$ git push\n",
    "Enumerating objects: 5, done.\n",
    "Counting objects: 100% (5/5), done.\n",
    "Delta compression using up to 12 threads\n",
    "Compressing objects: 100% (2/2), done.\n",
    "Writing objects: 100% (3/3), 299 bytes | 299.00 KiB/s, done.\n",
    "Total 3 (delta 0), reused 0 (delta 0), pack-reused 0\n",
    "To gits-15.sys.kth.se:BB1000/git-2023-04-19\n",
    "   803036a..1df3614  main -> main\n",
    "\n",
    "Your branch is up to date with 'origin/main'.\n",
    "\n",
    "nothing to commit, working tree clean\n",
    "\n",
    "~~~"
   ]
  },
  {
   "cell_type": "markdown",
   "id": "871d0c36",
   "metadata": {},
   "source": [
    "~~~\n",
    "$ git log --oneline --all\n",
    "1df3614 (HEAD -> main, origin/main, origin/HEAD) Add second book\n",
    "803036a Starting a booklist\n",
    "~~~"
   ]
  },
  {
   "cell_type": "markdown",
   "id": "7ae2fd73",
   "metadata": {},
   "source": [
    "### Include new changes in the remote\n",
    "\n",
    "E.g. another collaborator has contributed you have saved work from another computer\n"
   ]
  },
  {
   "cell_type": "markdown",
   "id": "af411a89",
   "metadata": {},
   "source": [
    "* On the first computer the log has old information and has not been synchronized with latest changes on Github\n",
    "\n",
    "~~~\n",
    "$ git log --oneline --all\n",
    "803036a (HEAD -> main, origin/main) Starting a booklist\n",
    "(bb1000) python-lll@bat:~/git-2023-04-19\n",
    "~~~\n",
    "* Use `git fetch` to update local computer with knowledge about remote state\n",
    "~~~\n",
    "$ git fetch origin\n",
    "remote: Enumerating objects: 5, done.\n",
    "remote: Counting objects: 100% (5/5), done.\n",
    "remote: Compressing objects: 100% (2/2), done.\n",
    "remote: Total 3 (delta 0), reused 3 (delta 0), pack-reused 0\n",
    "Unpacking objects: 100% (3/3), 279 bytes | 279.00 KiB/s, done.\n",
    "From gits-15.sys.kth.se:BB1000/git-2023-04-19\n",
    "   803036a..1df3614  main       -> origin/main\n",
    "~~~"
   ]
  },
  {
   "cell_type": "markdown",
   "id": "8e84f20b",
   "metadata": {},
   "source": [
    "~~~\n",
    "$ git log --oneline --all\n",
    "1df3614 (origin/main) Add second book\n",
    "803036a (HEAD -> main) Starting a booklist\n",
    "~~~\n",
    "The remote branch can be merged just as with local development branches\n",
    "~~~\n",
    "$ git merge origin/main\n",
    "Updating 803036a..1df3614\n",
    "Fast-forward\n",
    " booklist.txt | 1 +\n",
    " 1 file changed, 1 insertion(+)\n",
    "~~~"
   ]
  },
  {
   "cell_type": "markdown",
   "id": "d5e9a402",
   "metadata": {},
   "source": [
    "~~~\n",
    "$ git log --oneline --all\n",
    "1df3614 (HEAD -> main, origin/main) Add second book\n",
    "803036a Starting a booklist\n",
    "(bb1000) python-lll@bat:~/git-2023-04-19\n",
    "~~~"
   ]
  },
  {
   "cell_type": "markdown",
   "id": "eb3c7658",
   "metadata": {},
   "source": [
    " ### Fetch/merge vs pull\n",
    " \n",
    " * remote branches are branches that reflect the state of remote repositories\n",
    " * `git fetch` updates local information on the state of the remotes\n",
    " * `git merge` can merge remote branches in the same way as local development branches\n",
    " * `git pull` combines `git fetch` and `git merge` to a single command"
   ]
  },
  {
   "cell_type": "markdown",
   "id": "182e19ee",
   "metadata": {},
   "source": [
    "After a new change to `booklist.txt` in the web interface\n",
    "\n",
    "~~~\n",
    "$ git pull\n",
    "remote: Enumerating objects: 5, done.\n",
    "remote: Counting objects: 100% (5/5), done.\n",
    "remote: Compressing objects: 100% (2/2), done.\n",
    "remote: Total 3 (delta 0), reused 0 (delta 0), pack-reused 0\n",
    "Unpacking objects: 100% (3/3), 346 bytes | 173.00 KiB/s, done.\n",
    "From gits-15.sys.kth.se:BB1000/git-2023-04-19\n",
    "   1df3614..a167720  main       -> origin/main\n",
    "Updating 1df3614..a167720\n",
    "Fast-forward\n",
    " booklist.txt | 1 +\n",
    " 1 file changed, 1 insertion(+)\n",
    "~~~"
   ]
  },
  {
   "cell_type": "markdown",
   "id": "9b665792",
   "metadata": {},
   "source": [
    "~~~\n",
    "$ git log --oneline --all\n",
    "a167720 (HEAD -> main, origin/main) Add a third book\n",
    "1df3614 Add second book\n",
    "803036a Starting a booklist\n",
    "~~~"
   ]
  }
 ],
 "metadata": {
  "kernelspec": {
   "display_name": "Python 3 (ipykernel)",
   "language": "python",
   "name": "python3"
  },
  "language_info": {
   "codemirror_mode": {
    "name": "ipython",
    "version": 3
   },
   "file_extension": ".py",
   "mimetype": "text/x-python",
   "name": "python",
   "nbconvert_exporter": "python",
   "pygments_lexer": "ipython3",
   "version": "3.11.0"
  }
 },
 "nbformat": 4,
 "nbformat_minor": 5
}
