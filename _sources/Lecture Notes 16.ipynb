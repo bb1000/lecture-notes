{
 "cells": [
  {
   "cell_type": "markdown",
   "id": "c1629e0d",
   "metadata": {},
   "source": [
    "# Lecture Notes 16"
   ]
  },
  {
   "cell_type": "code",
   "execution_count": 65,
   "id": "8a528d73",
   "metadata": {},
   "outputs": [],
   "source": [
    "class Person:\n",
    "    count = 0\n",
    "    def __init__(self, given_name=\"X\", surname=\"Y\"):\n",
    "        self.given_name = given_name\n",
    "        self.surname = surname\n",
    "        #Person.count += 1\n",
    "        self.__class__.count += 1\n",
    "        \n",
    "        \n",
    "    def __str__(self):\n",
    "        return f\"{self.surname}, {self.given_name}\"\n",
    "    \n",
    "    def __repr__(self):\n",
    "        #return f'Person(\"{self.given_name}\", \"{self.surname}\")'\n",
    "        return f'{self.__class__.__name__}(\"{self.given_name}\", \"{self.surname}\")'\n",
    "\n",
    "    \n",
    "    def display_person(self):\n",
    "        print(f\"My name is {self.surname}, {self.given_name} {self.surname}\")"
   ]
  },
  {
   "cell_type": "code",
   "execution_count": 66,
   "id": "1629e603",
   "metadata": {},
   "outputs": [],
   "source": [
    "class Employee(Person):\n",
    "    count = 0\n",
    "    def __init__(self, given_name=\"X\", surname=\"Y\", salary=0):\n",
    "        #Person.__init__(self, given_name, surname)\n",
    "        super().__init__(given_name, surname)\n",
    "        self.salary = salary\n",
    "        \n",
    "    def display_employee(self):\n",
    "        print(f\"My name is {self.surname}, {self.given_name} {self.surname} and my salary is {self.salary}\")"
   ]
  },
  {
   "cell_type": "code",
   "execution_count": 67,
   "id": "96d1f829",
   "metadata": {},
   "outputs": [
    {
     "data": {
      "text/plain": [
       "(0, 0)"
      ]
     },
     "execution_count": 67,
     "metadata": {},
     "output_type": "execute_result"
    }
   ],
   "source": [
    "Person.count, Employee.count"
   ]
  },
  {
   "cell_type": "code",
   "execution_count": 68,
   "id": "863a9a2c",
   "metadata": {},
   "outputs": [
    {
     "data": {
      "text/plain": [
       "Person(\"X\", \"Y\")"
      ]
     },
     "execution_count": 68,
     "metadata": {},
     "output_type": "execute_result"
    }
   ],
   "source": [
    "Person()"
   ]
  },
  {
   "cell_type": "code",
   "execution_count": 69,
   "id": "e4df8eb7",
   "metadata": {},
   "outputs": [
    {
     "data": {
      "text/plain": [
       "False"
      ]
     },
     "execution_count": 69,
     "metadata": {},
     "output_type": "execute_result"
    }
   ],
   "source": [
    "Person.count is Employee.count"
   ]
  },
  {
   "cell_type": "code",
   "execution_count": 70,
   "id": "076b664c",
   "metadata": {},
   "outputs": [
    {
     "data": {
      "text/plain": [
       "Employee(\"X\", \"Y\")"
      ]
     },
     "execution_count": 70,
     "metadata": {},
     "output_type": "execute_result"
    }
   ],
   "source": [
    "Employee(salary=1000)"
   ]
  },
  {
   "cell_type": "code",
   "execution_count": 71,
   "id": "c74f6ac2",
   "metadata": {},
   "outputs": [
    {
     "name": "stdout",
     "output_type": "stream",
     "text": [
      "My name is Y, X Y\n"
     ]
    }
   ],
   "source": [
    "e = Employee(salary=1000)\n",
    "e.display_person()"
   ]
  },
  {
   "cell_type": "code",
   "execution_count": 72,
   "id": "436c0e7e",
   "metadata": {},
   "outputs": [
    {
     "data": {
      "text/plain": [
       "'Employee'"
      ]
     },
     "execution_count": 72,
     "metadata": {},
     "output_type": "execute_result"
    }
   ],
   "source": [
    "e.__class__.__name__"
   ]
  },
  {
   "cell_type": "code",
   "execution_count": 73,
   "id": "b74de660",
   "metadata": {},
   "outputs": [
    {
     "name": "stdout",
     "output_type": "stream",
     "text": [
      "My name is Y, X Y and my salary is 1000\n"
     ]
    }
   ],
   "source": [
    "e.display_employee()"
   ]
  },
  {
   "cell_type": "code",
   "execution_count": 74,
   "id": "f4282ab0",
   "metadata": {},
   "outputs": [
    {
     "data": {
      "text/plain": [
       "1"
      ]
     },
     "execution_count": 74,
     "metadata": {},
     "output_type": "execute_result"
    }
   ],
   "source": [
    "Person.count"
   ]
  },
  {
   "cell_type": "code",
   "execution_count": 75,
   "id": "5db38786",
   "metadata": {},
   "outputs": [
    {
     "data": {
      "text/plain": [
       "2"
      ]
     },
     "execution_count": 75,
     "metadata": {},
     "output_type": "execute_result"
    }
   ],
   "source": [
    "Employee.count"
   ]
  },
  {
   "cell_type": "markdown",
   "id": "9526b80f",
   "metadata": {},
   "source": [
    "### default dict"
   ]
  },
  {
   "cell_type": "code",
   "execution_count": 76,
   "id": "306b6bc3",
   "metadata": {},
   "outputs": [],
   "source": [
    "a_dict = {\"a\": 1, \"b\": 2}"
   ]
  },
  {
   "cell_type": "code",
   "execution_count": 77,
   "id": "d68346cc",
   "metadata": {},
   "outputs": [
    {
     "data": {
      "text/plain": [
       "1"
      ]
     },
     "execution_count": 77,
     "metadata": {},
     "output_type": "execute_result"
    }
   ],
   "source": [
    "a_dict[\"a\"]"
   ]
  },
  {
   "cell_type": "code",
   "execution_count": 78,
   "id": "3afd35aa",
   "metadata": {},
   "outputs": [
    {
     "data": {
      "text/plain": [
       "2"
      ]
     },
     "execution_count": 78,
     "metadata": {},
     "output_type": "execute_result"
    }
   ],
   "source": [
    "a_dict[\"b\"]\n"
   ]
  },
  {
   "cell_type": "code",
   "execution_count": 79,
   "id": "2b6f5b47",
   "metadata": {},
   "outputs": [
    {
     "ename": "KeyError",
     "evalue": "'c'",
     "output_type": "error",
     "traceback": [
      "\u001b[0;31m---------------------------------------------------------------------------\u001b[0m",
      "\u001b[0;31mKeyError\u001b[0m                                  Traceback (most recent call last)",
      "Cell \u001b[0;32mIn[79], line 1\u001b[0m\n\u001b[0;32m----> 1\u001b[0m a_dict[\u001b[38;5;124m\"\u001b[39m\u001b[38;5;124mc\u001b[39m\u001b[38;5;124m\"\u001b[39m]\n",
      "\u001b[0;31mKeyError\u001b[0m: 'c'"
     ]
    }
   ],
   "source": [
    "a_dict[\"c\"]"
   ]
  },
  {
   "cell_type": "code",
   "execution_count": 89,
   "id": "f50d4f9c",
   "metadata": {},
   "outputs": [
    {
     "data": {
      "text/plain": [
       "0"
      ]
     },
     "execution_count": 89,
     "metadata": {},
     "output_type": "execute_result"
    }
   ],
   "source": [
    "a_dict.get(\"c\", 0)"
   ]
  },
  {
   "cell_type": "code",
   "execution_count": 90,
   "id": "b78a8527",
   "metadata": {},
   "outputs": [
    {
     "data": {
      "text/plain": [
       "{'a': 1, 'b': 2}"
      ]
     },
     "execution_count": 90,
     "metadata": {},
     "output_type": "execute_result"
    }
   ],
   "source": [
    "a_dict"
   ]
  },
  {
   "cell_type": "code",
   "execution_count": 91,
   "id": "3a72e98b",
   "metadata": {},
   "outputs": [],
   "source": [
    "a_dict[\"c\" ] = a_dict.get(\"c\", 0) + 1"
   ]
  },
  {
   "cell_type": "code",
   "execution_count": 92,
   "id": "2472e411",
   "metadata": {},
   "outputs": [
    {
     "data": {
      "text/plain": [
       "{'a': 1, 'b': 2, 'c': 1}"
      ]
     },
     "execution_count": 92,
     "metadata": {},
     "output_type": "execute_result"
    }
   ],
   "source": [
    "a_dict"
   ]
  },
  {
   "cell_type": "code",
   "execution_count": 80,
   "id": "e1b3c20f",
   "metadata": {},
   "outputs": [],
   "source": [
    "from collections import defaultdict"
   ]
  },
  {
   "cell_type": "code",
   "execution_count": 81,
   "id": "5091d8c2",
   "metadata": {},
   "outputs": [],
   "source": [
    "counter = defaultdict(int)"
   ]
  },
  {
   "cell_type": "code",
   "execution_count": 82,
   "id": "f6ccd900",
   "metadata": {},
   "outputs": [
    {
     "data": {
      "text/plain": [
       "collections.defaultdict"
      ]
     },
     "execution_count": 82,
     "metadata": {},
     "output_type": "execute_result"
    }
   ],
   "source": [
    "type(counter)"
   ]
  },
  {
   "cell_type": "code",
   "execution_count": 83,
   "id": "a926ca72",
   "metadata": {},
   "outputs": [],
   "source": [
    "counter[\"a\"] = 1"
   ]
  },
  {
   "cell_type": "code",
   "execution_count": 84,
   "id": "b8e1e0bc",
   "metadata": {},
   "outputs": [],
   "source": [
    "counter[\"b\"] = 2"
   ]
  },
  {
   "cell_type": "code",
   "execution_count": 85,
   "id": "21251561",
   "metadata": {},
   "outputs": [
    {
     "data": {
      "text/plain": [
       "defaultdict(int, {'a': 1, 'b': 2})"
      ]
     },
     "execution_count": 85,
     "metadata": {},
     "output_type": "execute_result"
    }
   ],
   "source": [
    "counter"
   ]
  },
  {
   "cell_type": "code",
   "execution_count": 86,
   "id": "500127e5",
   "metadata": {},
   "outputs": [
    {
     "data": {
      "text/plain": [
       "0"
      ]
     },
     "execution_count": 86,
     "metadata": {},
     "output_type": "execute_result"
    }
   ],
   "source": [
    "counter[\"c\"]"
   ]
  },
  {
   "cell_type": "code",
   "execution_count": 87,
   "id": "01b5b137",
   "metadata": {},
   "outputs": [
    {
     "data": {
      "text/plain": [
       "defaultdict(int, {'a': 1, 'b': 2, 'c': 0})"
      ]
     },
     "execution_count": 87,
     "metadata": {},
     "output_type": "execute_result"
    }
   ],
   "source": [
    "counter"
   ]
  },
  {
   "cell_type": "code",
   "execution_count": null,
   "id": "f5088e4b",
   "metadata": {},
   "outputs": [],
   "source": []
  }
 ],
 "metadata": {
  "kernelspec": {
   "display_name": "Python 3 (ipykernel)",
   "language": "python",
   "name": "python3"
  },
  "language_info": {
   "codemirror_mode": {
    "name": "ipython",
    "version": 3
   },
   "file_extension": ".py",
   "mimetype": "text/x-python",
   "name": "python",
   "nbconvert_exporter": "python",
   "pygments_lexer": "ipython3",
   "version": "3.11.0"
  }
 },
 "nbformat": 4,
 "nbformat_minor": 5
}
