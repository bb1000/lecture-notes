{
 "cells": [
  {
   "cell_type": "markdown",
   "id": "b7ef81b6",
   "metadata": {},
   "source": [
    "# Lecture Notes 10"
   ]
  },
  {
   "cell_type": "markdown",
   "id": "7d7f73b7",
   "metadata": {},
   "source": [
    "## What is the `_` variable?\n",
    "\n",
    "In an interactive context  `_` refers to the value of the previous expression, e.g.\n",
    "\n",
    "~~~\n",
    ">>> 8 * 8\n",
    "64\n",
    ">>> _\n",
    "64\n",
    ">>> _ * 8\n",
    "512\n",
    ">>> _\n",
    "512\n",
    ">>> _ * 2\n",
    "1024\n",
    "~~~\n",
    "\n",
    "something that can be used to gradually build up a value as in a pocket calculator. This has been inherited in the notebook as well - value of previous cell. E.g."
   ]
  },
  {
   "cell_type": "code",
   "execution_count": 10,
   "id": "2ab24e4c",
   "metadata": {},
   "outputs": [
    {
     "data": {
      "text/plain": [
       "'hello'"
      ]
     },
     "execution_count": 10,
     "metadata": {},
     "output_type": "execute_result"
    }
   ],
   "source": [
    "'hello'"
   ]
  },
  {
   "cell_type": "code",
   "execution_count": 11,
   "id": "1b177e66",
   "metadata": {},
   "outputs": [
    {
     "data": {
      "text/plain": [
       "'hello world'"
      ]
     },
     "execution_count": 11,
     "metadata": {},
     "output_type": "execute_result"
    }
   ],
   "source": [
    "_ + ' world'"
   ]
  },
  {
   "cell_type": "markdown",
   "id": "076409e3",
   "metadata": {},
   "source": [
    "Note that the print function does not have a return value although things may look the same on the screen, it does not modify the `_` variable"
   ]
  },
  {
   "cell_type": "code",
   "execution_count": 14,
   "id": "ead078f5",
   "metadata": {},
   "outputs": [
    {
     "name": "stdout",
     "output_type": "stream",
     "text": [
      "hello\n"
     ]
    }
   ],
   "source": [
    "print('hello')"
   ]
  },
  {
   "cell_type": "code",
   "execution_count": 15,
   "id": "ed40738c",
   "metadata": {},
   "outputs": [
    {
     "data": {
      "text/plain": [
       "'hello world world world'"
      ]
     },
     "execution_count": 15,
     "metadata": {},
     "output_type": "execute_result"
    }
   ],
   "source": [
    "_ + ' world'"
   ]
  },
  {
   "cell_type": "markdown",
   "id": "d1425bcd",
   "metadata": {},
   "source": [
    "## What is a list comprehension?\n",
    "\n",
    "We generate a new list from the members of a nother list (or sequence) with a compact notation, like turning a for loop inside out\n"
   ]
  },
  {
   "cell_type": "code",
   "execution_count": 17,
   "id": "e60dd694",
   "metadata": {},
   "outputs": [
    {
     "data": {
      "text/plain": [
       "[0, 1, 4, 9, 16, 25, 36, 49, 64, 81]"
      ]
     },
     "execution_count": 17,
     "metadata": {},
     "output_type": "execute_result"
    }
   ],
   "source": [
    "[i**2 for i in range(10)]"
   ]
  },
  {
   "cell_type": "code",
   "execution_count": 18,
   "id": "3ab88873",
   "metadata": {},
   "outputs": [
    {
     "data": {
      "text/plain": [
       "['HELLO', 'WORLD']"
      ]
     },
     "execution_count": 18,
     "metadata": {},
     "output_type": "execute_result"
    }
   ],
   "source": [
    "[word.upper() for word in ['hello', 'world']]"
   ]
  },
  {
   "cell_type": "markdown",
   "id": "a3f21d9a",
   "metadata": {},
   "source": [
    "## Cell magic\n",
    "\n",
    "Functions specific for interactive Python and Jupyter with leading percent (%) signs\n",
    "\n",
    "* Line commands with leading single `%`\n",
    "* Cell commands with leading double `%%`\n",
    "\n",
    "E.g. to write the content of a cell to a file `story.txt`"
   ]
  },
  {
   "cell_type": "code",
   "execution_count": 21,
   "id": "fb7c4d14",
   "metadata": {},
   "outputs": [
    {
     "name": "stdout",
     "output_type": "stream",
     "text": [
      "Overwriting story.txt\n"
     ]
    }
   ],
   "source": [
    "%%file story.txt\n",
    "Mr and Mrs Dursley, of number four,\n",
    "Privet Drive, were proud to say that\n",
    "they were perfectly normal, thank\n",
    "you very much."
   ]
  },
  {
   "cell_type": "markdown",
   "id": "4cbd6752",
   "metadata": {},
   "source": [
    "## Stock example continued\n",
    "\n",
    "Here we use the csv module to write the collected data to a single file `total_results.csv`. To start with\n",
    "we organize conceived lines in the resulting file as a list of dictionary with common keys. The keys will become the headers in the file and the values the data lines in the files"
   ]
  },
  {
   "cell_type": "markdown",
   "id": "83733adf",
   "metadata": {},
   "source": [
    "~~~\n",
    "\"\"\"\n",
    "Goal:\n",
    "collect the data in the files into a table\n",
    "\n",
    "\n",
    "\n",
    "         Total shares      Final value\n",
    "amazon:  62.2256792377505  6350.13\n",
    "apple:   63.04476565302408 10691.76\n",
    "starbucks: 41.58404967698385 4763.87\n",
    "\"\"\"\n",
    "\n",
    "import csv\n",
    "import sys\n",
    "from rich import print\n",
    "from pathlib import Path\n",
    "\n",
    "\n",
    "data = []\n",
    "for result_file in sys.argv[1:]:\n",
    "    result_file = Path(result_file)\n",
    "    with open(result_file) as f:\n",
    "        line1 = f.readline()\n",
    "        line2 = f.readline()\n",
    "\n",
    "    total_shares = float(line1.split()[-1])\n",
    "    final_value = float(line2.split()[-1])\n",
    "\n",
    "    data.append(\n",
    "        {\n",
    "            # 'Company': result_file.replace('.results', ''),\n",
    "            # 'Company': result_file.split('.')[0],\n",
    "            'Company': result_file.stem.title(),\n",
    "            'Total shares': total_shares,\n",
    "            'Final Value': final_value,\n",
    "        }\n",
    "    )\n",
    "print(data)\n",
    "\n",
    "with open('total_results.csv', mode='w') as f:\n",
    "    writer = csv.DictWriter(f, data[0].keys())\n",
    "    writer.writeheader()\n",
    "    writer.writerows(data)\n",
    "~~~"
   ]
  },
  {
   "cell_type": "markdown",
   "id": "59921a26",
   "metadata": {},
   "source": [
    "In the final rewrite we do a so called refactoring. To rewrite the structure without changing the behaviour\n",
    "We have separate functions for collecting data and writing data and a main function which controls every thing"
   ]
  },
  {
   "cell_type": "markdown",
   "id": "ddfaa7c3",
   "metadata": {},
   "source": [
    "~~~\n",
    "\"\"\"\n",
    "Goal:\n",
    "collect the data in the files into a table\n",
    "\n",
    "\n",
    "\n",
    "         Total shares      Final value\n",
    "amazon:  62.2256792377505  6350.13\n",
    "apple:   63.04476565302408 10691.76\n",
    "starbucks: 41.58404967698385 4763.87\n",
    "\"\"\"\n",
    "\n",
    "import csv\n",
    "import sys\n",
    "from rich import print\n",
    "from pathlib import Path\n",
    "\n",
    "\n",
    "\n",
    "def get_data():\n",
    "    data = []\n",
    "    for result_file in sys.argv[1:]:\n",
    "        result_file = Path(result_file)\n",
    "        with open(result_file) as f:\n",
    "            line1 = f.readline()\n",
    "            line2 = f.readline()\n",
    "\n",
    "        total_shares = float(line1.split()[-1])\n",
    "        final_value = float(line2.split()[-1])\n",
    "\n",
    "        data.append(\n",
    "            {\n",
    "                # 'Company': result_file.replace('.results', ''),\n",
    "                # 'Company': result_file.split('.')[0],\n",
    "                'Company': result_file.stem.title(),\n",
    "                'Total shares': total_shares,\n",
    "                'Final Value': final_value,\n",
    "            }\n",
    "        )\n",
    "    return data\n",
    "\n",
    "\n",
    "def save_data(data):\n",
    "    with open('total_results.csv', mode='w') as f:\n",
    "        writer = csv.DictWriter(f, data[0].keys())\n",
    "        writer.writeheader()\n",
    "        writer.writerows(data)\n",
    "\n",
    "\n",
    "def main():\n",
    "    data = get_data()\n",
    "    print(data)\n",
    "    save_data(data)\n",
    "\n",
    "\n",
    "if __name__ == \"__main__\":\n",
    "    main()\n",
    "~~~"
   ]
  },
  {
   "cell_type": "markdown",
   "id": "33acbbef",
   "metadata": {},
   "source": [
    "Running the code with the downloaded examples\n",
    "\n",
    "~~~\n",
    "$ python *.results\n",
    "[\n",
    "    {'Company': 'Amazon', 'Total shares': 62.2256792377505, 'Final Value': 6350.13},\n",
    "    {'Company': 'Apple', 'Total shares': 63.04476565302408, 'Final Value': 10691.76},\n",
    "    {'Company': 'Meta', 'Total shares': 21.859148044183414, 'Final Value': 5229.58},\n",
    "    {'Company': 'Starbucks', 'Total shares': 41.58404967698385, 'Final Value': 4763.87},\n",
    "    {'Company': 'Tesla', 'Total shares': 116.52728787723488, 'Final Value': 18680.49}\n",
    "]\n",
    "~~~"
   ]
  }
 ],
 "metadata": {
  "kernelspec": {
   "display_name": "Python 3 (ipykernel)",
   "language": "python",
   "name": "python3"
  },
  "language_info": {
   "codemirror_mode": {
    "name": "ipython",
    "version": 3
   },
   "file_extension": ".py",
   "mimetype": "text/x-python",
   "name": "python",
   "nbconvert_exporter": "python",
   "pygments_lexer": "ipython3",
   "version": "3.11.0"
  }
 },
 "nbformat": 4,
 "nbformat_minor": 5
}
