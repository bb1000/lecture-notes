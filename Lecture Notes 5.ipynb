{
 "cells": [
  {
   "cell_type": "markdown",
   "id": "ad4576f9",
   "metadata": {},
   "source": [
    "# Lecture Notes 5\n",
    "\n",
    "## git\n",
    "\n",
    "### work directory\n",
    "\n",
    "folder where we have our files locally (example recipe)\n",
    "\n",
    "### commits\n",
    "\n",
    "* a commit (noun): a snapshot of our project at a given time that has been saved\n",
    "* to commit (verb): the act of saving changes to history\n",
    "\n",
    "### repository\n",
    "\n",
    "sequence of commits (history)"
   ]
  },
  {
   "cell_type": "markdown",
   "id": "5ce09d0d",
   "metadata": {},
   "source": [
    "## example\n",
    "\n",
    "starting code (green2red.py)"
   ]
  },
  {
   "cell_type": "code",
   "execution_count": 6,
   "id": "61b9554b",
   "metadata": {},
   "outputs": [
    {
     "name": "stdout",
     "output_type": "stream",
     "text": [
      "0.03896103896103896\n"
     ]
    }
   ],
   "source": [
    "required_volume = 1\n",
    "required_fat_content = 3 # in percent\n",
    "available_fat_content = 1.5 \n",
    "cream_fat_content = 40\n",
    "\n",
    "conversion_ratio = (required_fat_content - available_fat_content)/(cream_fat_content-available_fat_content) \n",
    "replaced_volume =  conversion_ratio * required_volume\n",
    "\n",
    "print(replaced_volume)"
   ]
  },
  {
   "cell_type": "markdown",
   "id": "65f07763",
   "metadata": {},
   "source": [
    "### Initialize\n",
    "\n",
    "We initialize the project folder for git\n",
    "\n",
    "~~~\n",
    "$ git init .\n",
    "~~~ \n",
    " \n",
    "### Check the state of our project\n",
    "\n",
    "~~~\n",
    "$ git status\n",
    "Untracked files:\n",
    "  (use \"git add <file>...\" to include in what will be committed)\n",
    "        green2red.py\n",
    "\n",
    "nothing added to commit but untracked files present (use \"git add\" to track)\n",
    "~~~\n",
    "\n",
    "### Track our source file in git\n",
    "\n",
    "~~~\n",
    "$ git add green2red.py\n",
    "~~~\n",
    "\n",
    "### Save file to history\n",
    "\n",
    "~~~\n",
    "$ git commit -m \"initial backup\" green2red.py\n",
    "~~~\n",
    "\n",
    "\n",
    "### Further changes with git add /git commit cycle\n",
    "\n",
    "* change formatting\n",
    "* introduce main function\n",
    "* Output with 1 decimal \n",
    "* Check on number of arguments\n",
    "* Allow for required volume on command line\n",
    "* initial backup\n"
   ]
  },
  {
   "cell_type": "markdown",
   "id": "c463f71f",
   "metadata": {},
   "source": [
    "~~~\n",
    "import sys\n",
    "\n",
    "if len(sys.argv) > 1:\n",
    "    required_volume = float(sys.argv[1])    \n",
    "else:\n",
    "    print(\"Usage:\", sys.argv[0], \"<required_volume>\")\n",
    "    exit()\n",
    "\n",
    "required_fat_content = 3 # in percent\n",
    "available_fat_content = 1.5 \n",
    "cream_fat_content = 40\n",
    "\n",
    "conversion_ratio = (required_fat_content - available_fat_content)/(cream_fat_content-available_fat_content) \n",
    "replaced_volume =  conversion_ratio * required_volume\n",
    "\n",
    "print(f'Replaced volume: {replaced_volume:5.1f}')\n",
    "~~~\n",
    "\n",
    "<img src=\"v1.svg\">"
   ]
  },
  {
   "cell_type": "markdown",
   "id": "5a8b8dab",
   "metadata": {},
   "source": [
    "### Create a new branch for developent\n",
    "\n",
    "~~~\n",
    "$ git branch refactor-to-function\n",
    "$ git switch refactor-to-function\n",
    "~~~\n",
    "\n",
    "<img src=\"v2.svg\">\n",
    "\n",
    "### Changes in new branch\n",
    "\n",
    "* change formatting\n",
    "* introduce main function\n",
    "\n",
    "\n",
    "~~~\n",
    "import sys\n",
    "\n",
    "def main():\n",
    "\n",
    "    if len(sys.argv) > 1:\n",
    "        required_volume = float(sys.argv[1])    \n",
    "    else:\n",
    "        print(\"Usage:\", sys.argv[0], \"<required_volume>\")\n",
    "        exit()\n",
    "\n",
    "    required_fat_content = 3 # in percent\n",
    "    available_fat_content = 1.5 \n",
    "    cream_fat_content = 40\n",
    "\n",
    "    conversion_ratio = (required_fat_content - available_fat_content)/(cream_fat_content-available_fat_content) \n",
    "    replaced_volume =  conversion_ratio * required_volume\n",
    "\n",
    "    print(f'Replaced volume: {replaced_volume:5.1g}')\n",
    "\n",
    "\n",
    "main()\n",
    "~~~\n",
    "\n",
    "<img src=\"v3.svg\">\n",
    "\n"
   ]
  },
  {
   "cell_type": "markdown",
   "id": "d0111210",
   "metadata": {},
   "source": [
    "### Merge to main\n",
    "\n",
    "~~~\n",
    "$ git switch main\n",
    "$ git merge refactor-to-function\n",
    "~~~\n",
    "\n",
    "<img src=\"v4.svg\">\n",
    "\n",
    "~~~\n",
    "$ git log --all --oneline\n",
    "0df9df8 (HEAD -> main, refactor-to-function) change formatting\n",
    "af1f422 introduce main function\n",
    "197b320 Output with 1 decimal\n",
    "50f0d3e Check on number of arguments\n",
    "613d9d6 Allow for required volume on command line\n",
    "e362b8b initial backup\n",
    "\n",
    "~~~"
   ]
  },
  {
   "cell_type": "markdown",
   "id": "5404634f",
   "metadata": {},
   "source": [
    "### git diff\n",
    "\n",
    "can be used to examine difference between versions\n",
    "\n",
    "\n",
    "* `git diff` (compares work directory with cache)\n",
    "* `git diff --staged` (compares cache with repository's active branch)\n",
    "* `git diff af1f422 0df9df8` (compares changes between two chosen commits)\n",
    "* `git diff main refactor-to-fanction)` (compares two branches)"
   ]
  },
  {
   "cell_type": "code",
   "execution_count": null,
   "id": "5a709b87",
   "metadata": {},
   "outputs": [],
   "source": []
  }
 ],
 "metadata": {
  "kernelspec": {
   "display_name": "Python 3 (ipykernel)",
   "language": "python",
   "name": "python3"
  },
  "language_info": {
   "codemirror_mode": {
    "name": "ipython",
    "version": 3
   },
   "file_extension": ".py",
   "mimetype": "text/x-python",
   "name": "python",
   "nbconvert_exporter": "python",
   "pygments_lexer": "ipython3",
   "version": "3.11.0"
  }
 },
 "nbformat": 4,
 "nbformat_minor": 5
}
